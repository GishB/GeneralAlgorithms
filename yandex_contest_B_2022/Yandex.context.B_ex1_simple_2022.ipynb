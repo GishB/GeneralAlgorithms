{
 "cells": [
  {
   "cell_type": "markdown",
   "id": "03aec048",
   "metadata": {},
   "source": [
    "# B. Количество равных максимальному\n",
    "#https://contest.yandex.ru/contest/28738/problems/A/"
   ]
  },
  {
   "cell_type": "markdown",
   "id": "454c0d5d",
   "metadata": {},
   "source": [
    "##### Ограничение времени\t1 секунда\n",
    "##### Ограничение памяти\t64Mb\n",
    "##### Ввод\tстандартный ввод или input.txt\n",
    "##### Вывод\tстандартный вывод или output.txt"
   ]
  },
  {
   "cell_type": "markdown",
   "id": "3e2c2f93",
   "metadata": {},
   "source": [
    "Последовательность состоит из натуральных чисел и завершается числом 0. Всего вводится не более 10000 чисел (не считая завершающего числа 0). Определите, сколько элементов этой последовательности равны ее наибольшему элементу.\n",
    "\n",
    "Числа, следующие за числом 0, считывать не нужно."
   ]
  },
  {
   "cell_type": "markdown",
   "id": "6215b0ed",
   "metadata": {},
   "source": [
    "## Формат ввода:"
   ]
  },
  {
   "cell_type": "markdown",
   "id": "5fad8058",
   "metadata": {},
   "source": [
    "Вводится последовательность целых чисел, оканчивающаяся числом 0 (само число 0 в последовательность не входит)."
   ]
  },
  {
   "cell_type": "markdown",
   "id": "ed9534a1",
   "metadata": {},
   "source": [
    "# Формат вывода:"
   ]
  },
  {
   "cell_type": "markdown",
   "id": "6922d455",
   "metadata": {},
   "source": [
    "Выведите ответ на задачу."
   ]
  },
  {
   "cell_type": "markdown",
   "id": "4080ed2a",
   "metadata": {},
   "source": [
    "# Пример:"
   ]
  },
  {
   "cell_type": "markdown",
   "id": "8e9f49bb",
   "metadata": {},
   "source": [
    "input: \n",
    "\n",
    "1\n",
    "\n",
    "7\n",
    "\n",
    "9\n",
    "\n",
    "0"
   ]
  },
  {
   "cell_type": "markdown",
   "id": "6fde54a2",
   "metadata": {},
   "source": [
    "output:\n",
    "\n",
    "1"
   ]
  },
  {
   "cell_type": "markdown",
   "id": "333eba5f",
   "metadata": {},
   "source": [
    "+++++++++++++++++++++++++++++++++++++++++++++++++++++++++++++++++++++++++++++++"
   ]
  },
  {
   "cell_type": "markdown",
   "id": "e863e036",
   "metadata": {},
   "source": [
    "input: \n",
    "\n",
    "1\n",
    "\n",
    "3\n",
    "\n",
    "3\n",
    "\n",
    "1\n",
    "\n",
    "0"
   ]
  },
  {
   "cell_type": "markdown",
   "id": "13412763",
   "metadata": {},
   "source": [
    "output:\n",
    "\n",
    "2"
   ]
  },
  {
   "cell_type": "markdown",
   "id": "6831fda1",
   "metadata": {},
   "source": [
    "# Пример решения задачи"
   ]
  },
  {
   "cell_type": "code",
   "execution_count": 63,
   "id": "2a031855",
   "metadata": {},
   "outputs": [
    {
     "name": "stdout",
     "output_type": "stream",
     "text": [
      "1\n",
      "7\n",
      "9\n",
      "0\n",
      "1\n"
     ]
    }
   ],
   "source": [
    "all_list = []\n",
    "while True:\n",
    "    a = int(input())\n",
    "    if 0 == a:\n",
    "        break\n",
    "    all_list.append(a)\n",
    "print(all_list.count(max(all_list)))"
   ]
  }
 ],
 "metadata": {
  "kernelspec": {
   "display_name": "Python 3 (ipykernel)",
   "language": "python",
   "name": "python3"
  },
  "language_info": {
   "codemirror_mode": {
    "name": "ipython",
    "version": 3
   },
   "file_extension": ".py",
   "mimetype": "text/x-python",
   "name": "python",
   "nbconvert_exporter": "python",
   "pygments_lexer": "ipython3",
   "version": "3.9.7"
  }
 },
 "nbformat": 4,
 "nbformat_minor": 5
}
