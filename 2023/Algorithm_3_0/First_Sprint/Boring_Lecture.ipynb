{
 "cells": [
  {
   "cell_type": "markdown",
   "id": "6297ae38",
   "metadata": {},
   "source": [
    "# 10. Скучная лекция"
   ]
  },
  {
   "cell_type": "markdown",
   "id": "eb710fd5",
   "metadata": {},
   "source": [
    "Ограничение времени секунда\n",
    "\n",
    "Ограничение памяти 64Mb\n",
    "\n",
    "Ввод: стандартный ввод или input.txt\n",
    "\n",
    "Вывод: стандартный вывод или output.txt"
   ]
  },
  {
   "cell_type": "markdown",
   "id": "f9e6ede4",
   "metadata": {},
   "source": [
    "# Описание"
   ]
  },
  {
   "cell_type": "markdown",
   "id": "4147a452",
   "metadata": {},
   "source": [
    "Лёша сидел на лекции. Ему было невероятно скучно. Голос лектора казался таким далеким и незаметным...\n",
    "\n",
    "Чтобы окончательно не уснуть, он взял листок и написал на нём свое любимое слово. Чуть ниже он повторил своё любимое слово, без первой буквы. Ещё ниже он снова написал своё любимое слово, но в этот раз без двух первых и последней буквы.\n",
    "\n",
    "Тут ему пришла в голову мысль — времени до конца лекции все равно ещё очень много, почему бы не продолжить выписывать всеми возможными способами это слово без какой-то части с начала и какой-то части с конца?\n",
    "\n",
    "После лекции Лёша рассказал Максу, как замечательно он скоротал время. Максу стало интересно посчитать, сколько букв каждого вида встречается у Лёши в листочке. Но к сожалению, сам листочек куда-то запропастился.\n",
    "\n",
    "Макс хорошо знает любимое слово Лёши, а ещё у него не так много свободного времени, как у его друга, так что помогите ему быстро восстановить, сколько раз Лёше пришлось выписать каждую букву."
   ]
  },
  {
   "cell_type": "markdown",
   "id": "3f76d7e7",
   "metadata": {},
   "source": [
    "# Формат ввода:"
   ]
  },
  {
   "cell_type": "markdown",
   "id": "01a7b287",
   "metadata": {},
   "source": [
    "На вход подаётся строка, состоящая из строчных латинских букв — любимое слово Лёши.\n",
    "\n",
    "Длина строки лежит в пределах от 5 до 100 000 символов."
   ]
  },
  {
   "cell_type": "markdown",
   "id": "6ea4dc33",
   "metadata": {},
   "source": [
    "# Формат вывода:"
   ]
  },
  {
   "cell_type": "markdown",
   "id": "086193ea",
   "metadata": {},
   "source": [
    "Для каждой буквы на листочке Лёши, выведите её, а затем через двоеточие и пробел сколько раз она встретилась в выписанных Лёшей словах (см. формат вывода в примерах). Буквы должны следовать в алфавитном порядке. Буквы, не встречающиеся на листочке, выводить не нужно."
   ]
  },
  {
   "cell_type": "markdown",
   "id": "966b9e73",
   "metadata": {},
   "source": [
    "# Пример 1\n",
    "\n",
    "Ввод:\n",
    "\n",
    "    hello\n",
    "    \n",
    "Вывод:\n",
    "\n",
    "    e: 8\n",
    "    h: 5\n",
    "    l: 17\n",
    "    o: 5"
   ]
  },
  {
   "cell_type": "markdown",
   "id": "7d2f8c7b",
   "metadata": {},
   "source": [
    "### Пример возможных комбинаций\n",
    "\n",
    "    \"hello\"\n",
    "\n",
    "    \"hell\"\n",
    "\n",
    "    \"ello\"\n",
    "\n",
    "    \"hel\"\n",
    "\n",
    "    \"ell\"\n",
    "\n",
    "    \"llo\"\n",
    "\n",
    "    \"he\"\n",
    "\n",
    "    \"el\"\n",
    "\n",
    "    \"ll\"\n",
    "\n",
    "    \"lo\"\n",
    "\n",
    "    \"h\"\n",
    "\n",
    "    \"e\"\n",
    "\n",
    "    \"l\"\n",
    "\n",
    "    \"l\"\n",
    "\n",
    "    \"o\""
   ]
  },
  {
   "cell_type": "markdown",
   "id": "ed52828c",
   "metadata": {},
   "source": [
    "# Решение № 1 - (Ошибка ML!)"
   ]
  },
  {
   "cell_type": "code",
   "execution_count": 61,
   "id": "03ba8452",
   "metadata": {},
   "outputs": [
    {
     "name": "stdout",
     "output_type": "stream",
     "text": [
      "hello\n",
      "e: 8\n",
      "h: 5\n",
      "l: 17\n",
      "o: 5\n"
     ]
    }
   ],
   "source": [
    "write = str(input())\n",
    "list_ = ''.join([''.join([write[i:g+i] for i in range(0,len(write)) if len(write[i:g+i]) == g]) for g in range(1, len(write)+1)])\n",
    "sort_l = sorted(list(set(list(write))))\n",
    "for i in sort_l:\n",
    "    print(f'{i}: {list_.count(i)}')"
   ]
  },
  {
   "cell_type": "markdown",
   "id": "c633a384",
   "metadata": {},
   "source": [
    "# Решение №2 - Не сохраняем string списки -> цифры (Борьба с ML)"
   ]
  },
  {
   "cell_type": "code",
   "execution_count": 9,
   "id": "cd4254fb",
   "metadata": {},
   "outputs": [
    {
     "name": "stdout",
     "output_type": "stream",
     "text": [
      "gfff\n"
     ]
    },
    {
     "ename": "TypeError",
     "evalue": "unsupported operand type(s) for +: 'int' and 'list'",
     "output_type": "error",
     "traceback": [
      "\u001b[0;31m---------------------------------------------------------------------------\u001b[0m",
      "\u001b[0;31mTypeError\u001b[0m                                 Traceback (most recent call last)",
      "\u001b[0;32m/tmp/ipykernel_13903/1951307065.py\u001b[0m in \u001b[0;36m<module>\u001b[0;34m\u001b[0m\n\u001b[1;32m      1\u001b[0m \u001b[0mwrite\u001b[0m \u001b[0;34m=\u001b[0m \u001b[0mstr\u001b[0m\u001b[0;34m(\u001b[0m\u001b[0minput\u001b[0m\u001b[0;34m(\u001b[0m\u001b[0;34m)\u001b[0m\u001b[0;34m)\u001b[0m\u001b[0;34m\u001b[0m\u001b[0;34m\u001b[0m\u001b[0m\n\u001b[1;32m      2\u001b[0m \u001b[0msort_l\u001b[0m \u001b[0;34m=\u001b[0m \u001b[0msorted\u001b[0m\u001b[0;34m(\u001b[0m\u001b[0mlist\u001b[0m\u001b[0;34m(\u001b[0m\u001b[0mset\u001b[0m\u001b[0;34m(\u001b[0m\u001b[0mlist\u001b[0m\u001b[0;34m(\u001b[0m\u001b[0mwrite\u001b[0m\u001b[0;34m)\u001b[0m\u001b[0;34m)\u001b[0m\u001b[0;34m)\u001b[0m\u001b[0;34m)\u001b[0m\u001b[0;34m\u001b[0m\u001b[0;34m\u001b[0m\u001b[0m\n\u001b[0;32m----> 3\u001b[0;31m result = [sum([w[y]\n\u001b[0m\u001b[1;32m      4\u001b[0m     \u001b[0;32mfor\u001b[0m \u001b[0mw\u001b[0m \u001b[0;32min\u001b[0m\u001b[0;34m\u001b[0m\u001b[0;34m\u001b[0m\u001b[0m\n\u001b[1;32m      5\u001b[0m       [[[(''.join([write[i:g+i] \n",
      "\u001b[0;32m/tmp/ipykernel_13903/1951307065.py\u001b[0m in \u001b[0;36m<listcomp>\u001b[0;34m(.0)\u001b[0m\n\u001b[1;32m      1\u001b[0m \u001b[0mwrite\u001b[0m \u001b[0;34m=\u001b[0m \u001b[0mstr\u001b[0m\u001b[0;34m(\u001b[0m\u001b[0minput\u001b[0m\u001b[0;34m(\u001b[0m\u001b[0;34m)\u001b[0m\u001b[0;34m)\u001b[0m\u001b[0;34m\u001b[0m\u001b[0;34m\u001b[0m\u001b[0m\n\u001b[1;32m      2\u001b[0m \u001b[0msort_l\u001b[0m \u001b[0;34m=\u001b[0m \u001b[0msorted\u001b[0m\u001b[0;34m(\u001b[0m\u001b[0mlist\u001b[0m\u001b[0;34m(\u001b[0m\u001b[0mset\u001b[0m\u001b[0;34m(\u001b[0m\u001b[0mlist\u001b[0m\u001b[0;34m(\u001b[0m\u001b[0mwrite\u001b[0m\u001b[0;34m)\u001b[0m\u001b[0;34m)\u001b[0m\u001b[0;34m)\u001b[0m\u001b[0;34m)\u001b[0m\u001b[0;34m\u001b[0m\u001b[0;34m\u001b[0m\u001b[0m\n\u001b[0;32m----> 3\u001b[0;31m result = [sum([w[y]\n\u001b[0m\u001b[1;32m      4\u001b[0m     \u001b[0;32mfor\u001b[0m \u001b[0mw\u001b[0m \u001b[0;32min\u001b[0m\u001b[0;34m\u001b[0m\u001b[0;34m\u001b[0m\u001b[0m\n\u001b[1;32m      5\u001b[0m       [[[(''.join([write[i:g+i] \n",
      "\u001b[0;31mTypeError\u001b[0m: unsupported operand type(s) for +: 'int' and 'list'"
     ]
    }
   ],
   "source": [
    "write = str(input())\n",
    "sort_l = sorted(list(set(list(write))))\n",
    "result = [sum([w[y]\n",
    "    for w in \n",
    "      [[[(''.join([write[i:g+i] \n",
    "        for i in range(0,len(write)) if len(write[i:g+i]) == g])).count(k)]\n",
    "          for k in sort_l]\n",
    "             for g in range(1, len(write)+1)]])[0]\n",
    "                for y in range(len(sort_l))]\n",
    "for i in range(len(sort_l)):\n",
    "    print(f'{sort_l[i]}: {result[i]}')"
   ]
  },
  {
   "cell_type": "code",
   "execution_count": 7,
   "id": "143bad74",
   "metadata": {},
   "outputs": [],
   "source": [
    "import numpy as np"
   ]
  },
  {
   "cell_type": "markdown",
   "id": "81fbb9af",
   "metadata": {},
   "source": [
    "# Решение №3 - Не сохраняем string списки -> цифры (Борьба с ML). (Ошибка TL!)"
   ]
  },
  {
   "cell_type": "code",
   "execution_count": 7,
   "id": "fca165e1",
   "metadata": {},
   "outputs": [
    {
     "name": "stdout",
     "output_type": "stream",
     "text": [
      "hello\n",
      "e: 8\n",
      "h: 5\n",
      "l: 17\n",
      "o: 5\n"
     ]
    }
   ],
   "source": [
    "#не запоминаем списки а просто считаем\n",
    "write = str(input())\n",
    "sort_l = sorted(list(set(list(write))))\n",
    "list_ = []\n",
    "for g in range(1, len(write)+1):\n",
    "    temp_list = ''.join([write[i:g+i] for i in range(0,len(write)) if len(write[i:g+i]) == g])\n",
    "    _ = []\n",
    "    for k in sort_l:\n",
    "        _.append(temp_list.count(k))\n",
    "    list_.append(_)\n",
    "    del temp_list, _\n",
    "    \n",
    "for i in range(len(sort_l)):\n",
    "    letter = sort_l[i]\n",
    "    temp_list_counter = []\n",
    "    for v in range(len(list_)):\n",
    "        temp_list_counter.append(list_[v][i])\n",
    "    print(f'{letter}: {sum(temp_list_counter)}')\n",
    "    del temp_list_counter"
   ]
  },
  {
   "cell_type": "markdown",
   "id": "bad73863",
   "metadata": {},
   "source": [
    "# Решение №4 - не сохраняем списки string or цифры -> dictionary based (Борьба с TL) - (Ошибка TL!)"
   ]
  },
  {
   "cell_type": "code",
   "execution_count": 10,
   "id": "6ddfa932",
   "metadata": {},
   "outputs": [
    {
     "name": "stdout",
     "output_type": "stream",
     "text": [
      "HELLO\n",
      "E: 8\n",
      "H: 5\n",
      "L: 17\n",
      "O: 5\n"
     ]
    }
   ],
   "source": [
    "#не запоминаем списки а просто считаем | с использованием dict\n",
    "write = str(input())\n",
    "sort_l = sorted(list(set(list(write))))\n",
    "\n",
    "for g in range(1, len(write)+1):\n",
    "    temp_list = ''.join([write[i:g+i] for i in range(0,len(write)) if len(write[i:g+i]) == g])\n",
    "\n",
    "    _ = []\n",
    "    for k in sort_l:\n",
    "        _.append(temp_list.count(k))\n",
    "\n",
    "    if g == 1:\n",
    "        dictionary = dict(zip(sort_l, _))\n",
    "    else:\n",
    "        for k in range(len(_)):\n",
    "            dictionary[sort_l[k]] = dictionary[sort_l[k]] + _[k]\n",
    "        \n",
    "    del temp_list, _\n",
    "    \n",
    "for i in sort_l:\n",
    "    print(f'{i}: {dictionary[i]}')"
   ]
  },
  {
   "cell_type": "code",
   "execution_count": 11,
   "id": "a9a13859",
   "metadata": {},
   "outputs": [
    {
     "ename": "NameError",
     "evalue": "name '_mypron' is not defined",
     "output_type": "error",
     "traceback": [
      "\u001b[0;31m---------------------------------------------------------------------------\u001b[0m",
      "\u001b[0;31mNameError\u001b[0m                                 Traceback (most recent call last)",
      "\u001b[0;32m/tmp/ipykernel_13903/2646091634.py\u001b[0m in \u001b[0;36m<module>\u001b[0;34m\u001b[0m\n\u001b[0;32m----> 1\u001b[0;31m \u001b[0m_mypron\u001b[0m\u001b[0;34m\u001b[0m\u001b[0;34m\u001b[0m\u001b[0m\n\u001b[0m",
      "\u001b[0;31mNameError\u001b[0m: name '_mypron' is not defined"
     ]
    }
   ],
   "source": [
    "_mypron"
   ]
  },
  {
   "cell_type": "code",
   "execution_count": 12,
   "id": "b6b8f008",
   "metadata": {},
   "outputs": [
    {
     "ename": "NameError",
     "evalue": "name 'print_' is not defined",
     "output_type": "error",
     "traceback": [
      "\u001b[0;31m---------------------------------------------------------------------------\u001b[0m",
      "\u001b[0;31mNameError\u001b[0m                                 Traceback (most recent call last)",
      "\u001b[0;32m/tmp/ipykernel_13903/104631379.py\u001b[0m in \u001b[0;36m<module>\u001b[0;34m\u001b[0m\n\u001b[0;32m----> 1\u001b[0;31m \u001b[0mprint_\u001b[0m\u001b[0;34m\u001b[0m\u001b[0;34m\u001b[0m\u001b[0m\n\u001b[0m",
      "\u001b[0;31mNameError\u001b[0m: name 'print_' is not defined"
     ]
    }
   ],
   "source": [
    "print_"
   ]
  },
  {
   "cell_type": "code",
   "execution_count": 13,
   "id": "e87e328f",
   "metadata": {},
   "outputs": [],
   "source": [
    "x = 0\n",
    "while x < 10:\n",
    "    x = x + 1"
   ]
  },
  {
   "cell_type": "code",
   "execution_count": 14,
   "id": "b7db4d21",
   "metadata": {},
   "outputs": [
    {
     "data": {
      "text/plain": [
       "10"
      ]
     },
     "execution_count": 14,
     "metadata": {},
     "output_type": "execute_result"
    }
   ],
   "source": [
    "x"
   ]
  },
  {
   "cell_type": "code",
   "execution_count": 15,
   "id": "e824ca70",
   "metadata": {},
   "outputs": [],
   "source": [
    "student = {'test':1,'marks':5,\"age\":'tss'}"
   ]
  },
  {
   "cell_type": "code",
   "execution_count": 17,
   "id": "ee8226ec",
   "metadata": {},
   "outputs": [
    {
     "data": {
      "text/plain": [
       "5"
      ]
     },
     "execution_count": 17,
     "metadata": {},
     "output_type": "execute_result"
    }
   ],
   "source": [
    "student['marks']"
   ]
  },
  {
   "cell_type": "code",
   "execution_count": 18,
   "id": "465e055b",
   "metadata": {},
   "outputs": [
    {
     "name": "stdout",
     "output_type": "stream",
     "text": [
      "3\n"
     ]
    }
   ],
   "source": [
    "x = 0\n",
    "a = 5\n",
    "b = 5\n",
    "if a > 0:\n",
    "    if b < 0:\n",
    "        x = x + 5\n",
    "    elif a > 5:\n",
    "        x = x +4 \n",
    "    else:\n",
    "        x = x + 3\n",
    "else:\n",
    "    x = x + 2\n",
    "print(x)"
   ]
  },
  {
   "cell_type": "code",
   "execution_count": null,
   "id": "36b764b7",
   "metadata": {},
   "outputs": [],
   "source": []
  }
 ],
 "metadata": {
  "kernelspec": {
   "display_name": "Python 3 (ipykernel)",
   "language": "python",
   "name": "python3"
  },
  "language_info": {
   "codemirror_mode": {
    "name": "ipython",
    "version": 3
   },
   "file_extension": ".py",
   "mimetype": "text/x-python",
   "name": "python",
   "nbconvert_exporter": "python",
   "pygments_lexer": "ipython3",
   "version": "3.9.13"
  }
 },
 "nbformat": 4,
 "nbformat_minor": 5
}
