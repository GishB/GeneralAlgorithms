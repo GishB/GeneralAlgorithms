{
 "cells": [
  {
   "cell_type": "markdown",
   "id": "de05c7ca",
   "metadata": {},
   "source": [
    "# 18. Дек с защитой от ошибок"
   ]
  },
  {
   "cell_type": "markdown",
   "id": "f31765f7",
   "metadata": {},
   "source": [
    "Научитесь пользоваться стандартной структурой данных deque для целых чисел.  Напишите программу, содержащую описание дека и моделирующую работу дека, реализовав все указанные здесь методы. Программа считывает последовательность команд и в зависимости от команды выполняет ту или иную операцию. После выполнения каждой команды программа должна вывести одну строчку.\n",
    "\n",
    "Возможные команды для программы:\n",
    "\n",
    "push_front n\n",
    "Добавить (положить) в начало дека новый элемент. Программа должна вывести ok.\n",
    "\n",
    "push_back n\n",
    "Добавить (положить) в конец дека новый элемент. Программа должна вывести ok.\n",
    "\n",
    "pop_front\n",
    "Извлечь из дека первый элемент. Программа должна вывести его значение.\n",
    "\n",
    "pop_back\n",
    "Извлечь из дека последний элемент. Программа должна вывести его значение.\n",
    "\n",
    "front\n",
    "Узнать значение первого элемента (не удаляя его). Программа должна вывести его значение.\n",
    "\n",
    "back\n",
    "Узнать значение последнего элемента (не удаляя его). Программа должна вывести его значение.\n",
    "\n",
    "size\n",
    "Вывести количество элементов в деке.\n",
    "\n",
    "clear\n",
    "Очистить дек (удалить из него все элементы) и вывести ok.\n",
    "\n",
    "exit\n",
    "Программа должна вывести bye и завершить работу.\n",
    "\n",
    "Гарантируется, что количество элементов в деке в любой момент не превосходит 100. Перед исполнением операций pop_front, pop_back, front, back программа должна проверять, содержится ли в деке хотя бы один элемент. Если во входных данных встречается операция pop_front, pop_back, front, back, и при этом дек пуст, то программа должна вместо числового значения вывести строку error."
   ]
  },
  {
   "cell_type": "markdown",
   "id": "a9e78d58",
   "metadata": {},
   "source": [
    "# Формат ввода:"
   ]
  },
  {
   "cell_type": "markdown",
   "id": "a871c3c8",
   "metadata": {},
   "source": [
    "Вводятся команды управления деком, по одной на строке."
   ]
  },
  {
   "cell_type": "markdown",
   "id": "251a9410",
   "metadata": {},
   "source": [
    "# Формат вывода:"
   ]
  },
  {
   "cell_type": "markdown",
   "id": "9e09a240",
   "metadata": {},
   "source": [
    "Требуется вывести протокол работы дека, по одному сообщению на строке"
   ]
  },
  {
   "cell_type": "markdown",
   "id": "3984af29",
   "metadata": {},
   "source": [
    "# Пример\n"
   ]
  },
  {
   "cell_type": "markdown",
   "id": "629ae817",
   "metadata": {},
   "source": [
    "№1 \n",
    "\n",
    "Ввод:\n",
    "\n",
    "    push_back 1\n",
    "\n",
    "    back\n",
    "\n",
    "    exit\n",
    "\n",
    "Вывод:\n",
    "\n",
    "    ok\n",
    "\n",
    "    1\n",
    "\n",
    "    bye"
   ]
  },
  {
   "cell_type": "markdown",
   "id": "6d63262f",
   "metadata": {},
   "source": [
    "# Решение"
   ]
  },
  {
   "cell_type": "code",
   "execution_count": 8,
   "id": "dc969edd",
   "metadata": {},
   "outputs": [
    {
     "name": "stdout",
     "output_type": "stream",
     "text": [
      "push_front 1\n",
      "ok\n",
      "size\n",
      "1\n",
      "front\n",
      "1\n",
      "clear\n",
      "ok\n",
      "back\n",
      "error\n",
      "exit\n",
      "bye\n"
     ]
    }
   ],
   "source": [
    "read = 'start'\n",
    "deque = []\n",
    "while read != 'exit':\n",
    "    command = input().split()\n",
    "    if command[0] == 'push_front':\n",
    "        deque = [command[1]] + deque\n",
    "        print('ok')\n",
    "    elif command[0] == 'push_back':\n",
    "        deque += [command[1]]\n",
    "        print('ok')\n",
    "    elif command[0] == 'pop_front':\n",
    "        if len(deque) != 0:\n",
    "            print(deque.pop(0))\n",
    "        else:\n",
    "            print('error')\n",
    "    elif command[0] == 'pop_back':\n",
    "        if len(deque) != 0:\n",
    "            print(deque.pop(-1))\n",
    "        else:\n",
    "            print('error')\n",
    "    elif command[0] == 'front':\n",
    "        if len(deque) != 0:\n",
    "            print(deque[0])\n",
    "        else:\n",
    "            print('error')\n",
    "    elif command[0] == 'back':\n",
    "        if len(deque) != 0:\n",
    "            print(deque[-1])\n",
    "        else:\n",
    "            print('error')\n",
    "    elif command[0] == 'size':\n",
    "        print(len(deque))\n",
    "    elif command[0] == 'clear':\n",
    "        deque = []\n",
    "        print('ok')\n",
    "    elif command[0] == 'exit':\n",
    "        print('bye')\n",
    "        break"
   ]
  },
  {
   "cell_type": "code",
   "execution_count": null,
   "id": "0e42f6ff",
   "metadata": {},
   "outputs": [],
   "source": []
  }
 ],
 "metadata": {
  "kernelspec": {
   "display_name": "Python 3 (ipykernel)",
   "language": "python",
   "name": "python3"
  },
  "language_info": {
   "codemirror_mode": {
    "name": "ipython",
    "version": 3
   },
   "file_extension": ".py",
   "mimetype": "text/x-python",
   "name": "python",
   "nbconvert_exporter": "python",
   "pygments_lexer": "ipython3",
   "version": "3.9.13"
  }
 },
 "nbformat": 4,
 "nbformat_minor": 5
}
