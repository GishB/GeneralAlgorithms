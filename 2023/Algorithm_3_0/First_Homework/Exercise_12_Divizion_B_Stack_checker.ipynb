{
 "cells": [
  {
   "cell_type": "code",
   "execution_count": null,
   "id": "7ddcfba2",
   "metadata": {},
   "outputs": [],
   "source": [
    "start = list(map(ord, input()))\n",
    "stack = []\n",
    "for i in range(len(start)):\n",
    "    stack.append(start[i])\n",
    "    if i == 0 or len(stack) == 1:\n",
    "        pass\n",
    "    else:\n",
    "        if stack[-1] - stack[-2] == 1: #проверка на круглые скобки\n",
    "            stack.pop()\n",
    "            stack.pop()\n",
    "        elif stack[-1] - stack[-2] == 2: #проверка на квадратные скобки\n",
    "            stack.pop()\n",
    "            stack.pop()\n",
    "        elif stack[-1] - stack[-2] == 2: #проверка на цифровые скобки\n",
    "            stack.pop()\n",
    "            stack.pop()\n",
    "        else:\n",
    "            pass\n",
    "if len(stack) == 0:\n",
    "    print('yes')\n",
    "else:\n",
    "    print('no')"
   ]
  }
 ],
 "metadata": {
  "kernelspec": {
   "display_name": "Python 3 (ipykernel)",
   "language": "python",
   "name": "python3"
  },
  "language_info": {
   "codemirror_mode": {
    "name": "ipython",
    "version": 3
   },
   "file_extension": ".py",
   "mimetype": "text/x-python",
   "name": "python",
   "nbconvert_exporter": "python",
   "pygments_lexer": "ipython3",
   "version": "3.9.13"
  }
 },
 "nbformat": 4,
 "nbformat_minor": 5
}
