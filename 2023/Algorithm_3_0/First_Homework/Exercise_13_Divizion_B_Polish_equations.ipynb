{
 "cells": [
  {
   "cell_type": "markdown",
   "id": "cfa5dd25",
   "metadata": {},
   "source": [
    "# Пример:\n",
    "\n",
    "Ввод:\n",
    "\n",
    "8 9 + 1 7 - *\n",
    "\n",
    "Вывод:\n",
    "\n",
    "-102"
   ]
  },
  {
   "cell_type": "markdown",
   "id": "29bf9279",
   "metadata": {},
   "source": [
    "# Решение:"
   ]
  },
  {
   "cell_type": "code",
   "execution_count": 8,
   "id": "0b6cd4f1",
   "metadata": {},
   "outputs": [
    {
     "name": "stdout",
     "output_type": "stream",
     "text": [
      "8 9 + 1 7 - *\n",
      "8\n",
      "9\n",
      "1\n",
      "7\n",
      "-102\n"
     ]
    }
   ],
   "source": [
    "start = input().split()\n",
    "stack = []\n",
    "operations = ['+','-']\n",
    "\n",
    "for i in range(len(start)):\n",
    "    if start[i] in [str(g) for g in range(0,100)]: #что делать с range?!\n",
    "        stack.append(start[i])\n",
    "    elif start[i] in operations:\n",
    "        upper = int(stack.pop())\n",
    "        lower = int(stack.pop())\n",
    "        if start[i] == operations[0]: # +\n",
    "            stack.append(upper+lower)\n",
    "        else: # -\n",
    "            stack.append(lower-upper)\n",
    "    else:\n",
    "        upper = int(stack.pop())\n",
    "        lower = int(stack.pop())\n",
    "        stack.append(upper*lower)\n",
    "print(stack[-1])"
   ]
  }
 ],
 "metadata": {
  "kernelspec": {
   "display_name": "Python 3 (ipykernel)",
   "language": "python",
   "name": "python3"
  },
  "language_info": {
   "codemirror_mode": {
    "name": "ipython",
    "version": 3
   },
   "file_extension": ".py",
   "mimetype": "text/x-python",
   "name": "python",
   "nbconvert_exporter": "python",
   "pygments_lexer": "ipython3",
   "version": "3.9.13"
  }
 },
 "nbformat": 4,
 "nbformat_minor": 5
}
