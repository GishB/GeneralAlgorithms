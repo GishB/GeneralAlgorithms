{
 "cells": [
  {
   "cell_type": "code",
   "execution_count": 17,
   "id": "83ccea06",
   "metadata": {},
   "outputs": [
    {
     "name": "stdout",
     "output_type": "stream",
     "text": [
      "()[]\n"
     ]
    }
   ],
   "source": [
    "start = list(map(ord, input()))"
   ]
  },
  {
   "cell_type": "code",
   "execution_count": 18,
   "id": "9c70526a",
   "metadata": {},
   "outputs": [
    {
     "data": {
      "text/plain": [
       "[40, 41, 91, 93]"
      ]
     },
     "execution_count": 18,
     "metadata": {},
     "output_type": "execute_result"
    }
   ],
   "source": [
    "start"
   ]
  },
  {
   "cell_type": "code",
   "execution_count": 18,
   "id": "6a57da3c",
   "metadata": {},
   "outputs": [
    {
     "data": {
      "text/plain": [
       "91"
      ]
     },
     "execution_count": 18,
     "metadata": {},
     "output_type": "execute_result"
    }
   ],
   "source": [
    "ord('[')"
   ]
  },
  {
   "cell_type": "code",
   "execution_count": 19,
   "id": "2e14ea11",
   "metadata": {},
   "outputs": [
    {
     "data": {
      "text/plain": [
       "93"
      ]
     },
     "execution_count": 19,
     "metadata": {},
     "output_type": "execute_result"
    }
   ],
   "source": [
    "ord(']')"
   ]
  },
  {
   "cell_type": "code",
   "execution_count": 17,
   "id": "5ec447f1",
   "metadata": {},
   "outputs": [
    {
     "data": {
      "text/plain": [
       "-2"
      ]
     },
     "execution_count": 17,
     "metadata": {},
     "output_type": "execute_result"
    }
   ],
   "source": [
    "ord(start[2])- ord(start[3])"
   ]
  },
  {
   "cell_type": "code",
   "execution_count": 16,
   "id": "a688edd8",
   "metadata": {},
   "outputs": [
    {
     "data": {
      "text/plain": [
       "125"
      ]
     },
     "execution_count": 16,
     "metadata": {},
     "output_type": "execute_result"
    }
   ],
   "source": [
    "ord(start[3])"
   ]
  },
  {
   "cell_type": "code",
   "execution_count": 24,
   "id": "7dbdffa7",
   "metadata": {},
   "outputs": [
    {
     "name": "stdout",
     "output_type": "stream",
     "text": [
      "[40, 41, 91, 93]\n",
      "[40]\n",
      "[40, 41, 91, 93]\n",
      "[40, 41]\n",
      "1\n",
      "[40, 41, 91, 93]\n",
      "[91]\n",
      "[40, 41, 91, 93]\n",
      "[91, 93]\n",
      "2\n"
     ]
    }
   ],
   "source": [
    "stack = []\n",
    "for i in range(len(start)):\n",
    "    print(start)\n",
    "    stack.append(start[i])\n",
    "    print(stack)\n",
    "    if i == 0 or len(stack) == 1:\n",
    "        pass\n",
    "    else:\n",
    "        print(stack[-1] - stack[-2])\n",
    "        if stack[-1] - stack[-2] == 1: #проверка на круглые скобки\n",
    "            stack.pop()\n",
    "            stack.pop()\n",
    "        elif stack[-1] - stack[-2] == 2: #проверка на квадратные скобки\n",
    "            stack.pop()\n",
    "            stack.pop()\n",
    "        elif stack[-1] - stack[-2] == 2: #проверка на цифровые скобки\n",
    "            stack.pop()\n",
    "            stack.pop()\n",
    "        else:\n",
    "            pass"
   ]
  },
  {
   "cell_type": "code",
   "execution_count": null,
   "id": "4b6108fa",
   "metadata": {},
   "outputs": [],
   "source": []
  }
 ],
 "metadata": {
  "kernelspec": {
   "display_name": "Python 3 (ipykernel)",
   "language": "python",
   "name": "python3"
  },
  "language_info": {
   "codemirror_mode": {
    "name": "ipython",
    "version": 3
   },
   "file_extension": ".py",
   "mimetype": "text/x-python",
   "name": "python",
   "nbconvert_exporter": "python",
   "pygments_lexer": "ipython3",
   "version": "3.9.13"
  }
 },
 "nbformat": 4,
 "nbformat_minor": 5
}
