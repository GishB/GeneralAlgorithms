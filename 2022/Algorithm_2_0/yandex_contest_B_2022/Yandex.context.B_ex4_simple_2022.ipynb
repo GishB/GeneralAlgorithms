{
 "cells": [
  {
   "cell_type": "markdown",
   "id": "08d60428",
   "metadata": {},
   "source": [
    "# D. Лавочки в атриуме\n",
    "#https://contest.yandex.ru/contest/28738/problems/D/"
   ]
  },
  {
   "cell_type": "markdown",
   "id": "651d1a78",
   "metadata": {},
   "source": [
    "#### Ограничение времени\t1 секунда\n",
    "#### Ограничение памяти\t64Mb\n",
    "#### Ввод\tстандартный ввод или input.txt\n",
    "#### Вывод\tстандартный вывод или output.txt"
   ]
  },
  {
   "cell_type": "markdown",
   "id": "04755223",
   "metadata": {},
   "source": [
    "В атриуме нового корпуса ФНК урбанисты установили модные гранитные лавочки (на которых холодно сидеть зимой и жарко летом). Лавочка устроена следующим образом: несколько одинаковых кубических гранитных блоков ставятся в ряд, а на них кладется гранитная плита.\n",
    "\n",
    "При этом блоки располагаются так, чтобы плита не падала: для этого достаточно, чтобы и слева, и справа от центра плиты был хотя бы один гранитный блок или его часть (в частности, если центр плиты приходится на середину какого-нибудь блока, то и слева, и справа от центра плиты находится часть блока, и плита не падает).\n",
    "\n",
    "На ФНК много певокурсников (но это только пока не произошли отчисления за списывания на курсе ОиМП) и им не хватает стульев в аудиториях. Студенты обнаружили, что блоки можно использовать в аудитории в качестве сиденья. Можно по одному вытаскивать блоки, находящиеся с краю (как слева, так и справа). Они хотят вытащить из-под лавочки как можно больше блоков так, чтобы она при этом не упала (передвигать оставшиеся блоки нельзя). Определите, какие блоки они должны оставить."
   ]
  },
  {
   "cell_type": "markdown",
   "id": "9fdfa665",
   "metadata": {},
   "source": [
    "# Формат ввода"
   ]
  },
  {
   "cell_type": "markdown",
   "id": "ccdb2c16",
   "metadata": {},
   "source": [
    "В первой строке входных данных содержатся два числа: L — длина лавочки и K — количество гранитных блоков-ножек. Оба числа натуральные и не превышают 10 000.\n",
    "\n",
    "Во второй строке следуют K различных целых неотрицательных чисел, задающих положение каждой ножки. Положение ножки определяется расстоянием от левого края плиты до левого края ножки (ножка — это куб размером 1×1×1). Ножки перечислены слева направо (то есть начиная с ножки с меньшим расстоянием до левого края)."
   ]
  },
  {
   "cell_type": "markdown",
   "id": "aab19aae",
   "metadata": {},
   "source": [
    "# Формат вывода"
   ]
  },
  {
   "cell_type": "markdown",
   "id": "0323de03",
   "metadata": {},
   "source": [
    "Требуется перечислить ножки, которые студентам нужно оставить. Для каждой ножки нужно выдать ее положение, как оно задано во входных данных. Ножки следует перечислять слева направо, в том порядке, в котором они встречаются во входных данных."
   ]
  },
  {
   "cell_type": "markdown",
   "id": "7415baf2",
   "metadata": {},
   "source": [
    "# Пример"
   ]
  },
  {
   "cell_type": "markdown",
   "id": "4cc020ad",
   "metadata": {},
   "source": [
    "#1\n",
    "input: \n",
    "\n",
    "5 2\n",
    "\n",
    "0 2\n",
    "\n",
    "output:\n",
    "\n",
    "2\n",
    "\n",
    "#2\n",
    "input:\n",
    "\n",
    "13 4\n",
    "\n",
    "1 4 8 11\n",
    "\n",
    "output:\n",
    "\n",
    "4 8"
   ]
  },
  {
   "cell_type": "markdown",
   "id": "b451b1fc",
   "metadata": {},
   "source": [
    "# Решение задачи"
   ]
  },
  {
   "cell_type": "code",
   "execution_count": 1,
   "id": "e507f80e",
   "metadata": {},
   "outputs": [
    {
     "name": "stdout",
     "output_type": "stream",
     "text": [
      "13 4\n",
      "1 4 8 11\n"
     ]
    }
   ],
   "source": [
    "length_bench, number_wooden_leg = map(int, input().split())\n",
    "list_wooden_leg = list(input().split())"
   ]
  },
  {
   "cell_type": "code",
   "execution_count": 2,
   "id": "0cea7473",
   "metadata": {},
   "outputs": [
    {
     "name": "stdout",
     "output_type": "stream",
     "text": [
      "4 8\n"
     ]
    }
   ],
   "source": [
    "center_position = length_bench/2\n",
    "list_important_wooden_leg = []\n",
    "if length_bench % 2 != 1: #центр целый\n",
    "    close_right = 0\n",
    "    for g in list_wooden_leg:\n",
    "        if int(g) >= center_position:\n",
    "            close_right = g\n",
    "            break\n",
    "    for g in list_wooden_leg:\n",
    "        if int(g) < center_position:\n",
    "            list_important_wooden_leg.append(g)\n",
    "    close_left = list_important_wooden_leg[-1]\n",
    "    print(close_left, close_right)\n",
    "else:\n",
    "    for i in list_wooden_leg: \n",
    "        if int(i) == int(center_position):\n",
    "            list_important_wooden_leg.append(i)\n",
    "    if len(list_important_wooden_leg) == 0:\n",
    "        temp_right_position = int(center_position) + 1\n",
    "        close_right = 0\n",
    "        for g in list_wooden_leg:\n",
    "            if int(g) >= temp_right_position:\n",
    "                close_right = g\n",
    "                break\n",
    "        for g in list_wooden_leg:\n",
    "            if int(g) < center_position:\n",
    "                list_important_wooden_leg.append(g)\n",
    "        close_left = list_important_wooden_leg[-1]\n",
    "        print(close_left, close_right)\n",
    "    else:\n",
    "        print(list_important_wooden_leg[0])"
   ]
  }
 ],
 "metadata": {
  "kernelspec": {
   "display_name": "Python 3 (ipykernel)",
   "language": "python",
   "name": "python3"
  },
  "language_info": {
   "codemirror_mode": {
    "name": "ipython",
    "version": 3
   },
   "file_extension": ".py",
   "mimetype": "text/x-python",
   "name": "python",
   "nbconvert_exporter": "python",
   "pygments_lexer": "ipython3",
   "version": "3.9.7"
  }
 },
 "nbformat": 4,
 "nbformat_minor": 5
}
