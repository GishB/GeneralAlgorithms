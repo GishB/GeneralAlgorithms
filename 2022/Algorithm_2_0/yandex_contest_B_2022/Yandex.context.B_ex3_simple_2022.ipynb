{
 "cells": [
  {
   "cell_type": "markdown",
   "id": "bf6f56a8",
   "metadata": {},
   "source": [
    "# C. Изготовление палиндромов\n",
    "#https://contest.yandex.ru/contest/28738/problems/C/?success=72947438#7/2019_12_15/tl54mVsHlN"
   ]
  },
  {
   "cell_type": "markdown",
   "id": "6153c6f7",
   "metadata": {},
   "source": [
    "#### Ограничение времени\t2 секунды\n",
    "#### Ограничение памяти\t512Mb\n",
    "#### Ввод\tстандартный ввод или input.txt\n",
    "#### Вывод\tстандартный вывод или output.txt"
   ]
  },
  {
   "cell_type": "markdown",
   "id": "e024ca6a",
   "metadata": {},
   "source": [
    "В строкоремонтную мастерскую принесли строку, состоящую из строчных латинских букв. Заказчик хочет сделать из неё палиндром. В мастерской могут за 1 байтландский тугрик заменить произвольную букву в строке любой выбранной заказчиком буквой.\n",
    "Какую минимальную сумму придётся заплатить заказчику за ремонт строки?\n",
    "Напомним, что палиндромом называется строка, которая равна самой себе, прочитанной в обратном направлении."
   ]
  },
  {
   "cell_type": "markdown",
   "id": "f8c4ae13",
   "metadata": {},
   "source": [
    "# Формат ввода"
   ]
  },
  {
   "cell_type": "markdown",
   "id": "f2385ed9",
   "metadata": {},
   "source": [
    "Входные данные содержат непустую строку, состоящую из строчных латинских букв, которую принёс заказчик. Длина строки не превосходит 10^4."
   ]
  },
  {
   "cell_type": "markdown",
   "id": "51d25515",
   "metadata": {},
   "source": [
    "# Формат вывода"
   ]
  },
  {
   "cell_type": "markdown",
   "id": "59be25e0",
   "metadata": {},
   "source": [
    "Выведите одно целое число — минимальную сумму, которую заказчику придётся заплатить за превращение принесённой заказчиком строки в палиндром."
   ]
  },
  {
   "cell_type": "markdown",
   "id": "ecaebd68",
   "metadata": {},
   "source": [
    "# Пример"
   ]
  },
  {
   "cell_type": "markdown",
   "id": "942bbc59",
   "metadata": {},
   "source": [
    "#1\n",
    "input = cognitive\n",
    "\n",
    "output = 4\n",
    "\n",
    "#2\n",
    "input = приветтевирп\n",
    "\n",
    "output = 0\n",
    "\n",
    "#3\n",
    "input = ab\n",
    "\n",
    "output = 1\n",
    "\n",
    "#4\n",
    "input = a\n",
    "\n",
    "output = 0"
   ]
  },
  {
   "cell_type": "markdown",
   "id": "b1c15017",
   "metadata": {},
   "source": [
    "# Решение задачи"
   ]
  },
  {
   "cell_type": "code",
   "execution_count": 1,
   "id": "67b0dd12",
   "metadata": {},
   "outputs": [
    {
     "name": "stdout",
     "output_type": "stream",
     "text": [
      "cognitive\n"
     ]
    }
   ],
   "source": [
    "text = list(input())"
   ]
  },
  {
   "cell_type": "code",
   "execution_count": 7,
   "id": "795b798d",
   "metadata": {},
   "outputs": [
    {
     "name": "stdout",
     "output_type": "stream",
     "text": [
      "4\n"
     ]
    }
   ],
   "source": [
    "len_text = int(len(text))\n",
    "len_text_2 = int(len_text/2)\n",
    "count = 0\n",
    "if len_text == 1:\n",
    "    pass\n",
    "elif len_text % 2 == 0:\n",
    "    right_text, left_text = text[len_text_2:], text[:len_text_2]\n",
    "    reversed_id = list(reversed(range(len(right_text))))\n",
    "    for i in range(len(right_text)):\n",
    "        if right_text[reversed_id[i]] != left_text[i]:\n",
    "            count +=1\n",
    "        else:\n",
    "            pass\n",
    "else:\n",
    "    right_text, left_text = text[len_text_2+1:], text[:len_text_2]\n",
    "    reversed_id = list(reversed(range(len(right_text))))\n",
    "    for i in range(len(right_text)):\n",
    "        if right_text[reversed_id[i]] != left_text[i]:\n",
    "            count +=1\n",
    "print(count)"
   ]
  }
 ],
 "metadata": {
  "kernelspec": {
   "display_name": "Python 3 (ipykernel)",
   "language": "python",
   "name": "python3"
  },
  "language_info": {
   "codemirror_mode": {
    "name": "ipython",
    "version": 3
   },
   "file_extension": ".py",
   "mimetype": "text/x-python",
   "name": "python",
   "nbconvert_exporter": "python",
   "pygments_lexer": "ipython3",
   "version": "3.9.7"
  }
 },
 "nbformat": 4,
 "nbformat_minor": 5
}
