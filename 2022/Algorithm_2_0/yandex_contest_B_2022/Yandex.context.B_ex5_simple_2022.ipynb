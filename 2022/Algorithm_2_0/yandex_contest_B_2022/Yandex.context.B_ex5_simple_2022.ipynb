{
 "cells": [
  {
   "cell_type": "markdown",
   "id": "c1f62868",
   "metadata": {},
   "source": [
    "# E. Дипломы в папках\n",
    "#https://contest.yandex.ru/contest/28738/problems/E/"
   ]
  },
  {
   "cell_type": "markdown",
   "id": "e3da8e2e",
   "metadata": {},
   "source": [
    "#### Ограничение времени\t1 секунда\n",
    "#### Ограничение памяти\t64Mb\n",
    "#### Ввод\tстандартный ввод или input.txt\n",
    "#### Вывод\tстандартный вывод или output.txt"
   ]
  },
  {
   "cell_type": "markdown",
   "id": "e11a247c",
   "metadata": {},
   "source": [
    "В этом году Иван заканчивает школу и поступает в вуз. За время своей учебы он часто участвовал в олимпиадах по информатике и у него накопилось много дипломов. Иван раскладывал дипломы по папкам совершенно бессистемно, то есть любой диплом мог оказаться в любой из папок. К счастью, Иван помнит, сколько дипломов лежит в каждой из папок.\n",
    "\n",
    "Иван хочет принести в приемную комиссию выбранного вуза папку, в которой находится диплом Московской олимпиады по программированию (такой диплом у Ивана ровно один). Для того чтобы понять, что в данной папке нужного диплома нет, Ивану нужно просмотреть все дипломы из этой папки. Просмотр одного диплома занимает у него ровно одну секунду и он может мгновенно переходить к просмотру следующей папки после окончания просмотра предыдущей. Порядок просмотра папок Иван может выбирать.\n",
    "\n",
    "По заданному количеству дипломов в каждой из папок требуется определить, за какое наименьшее время в худшем случае Иван поймет, в какой папке содержится нужный ему диплом."
   ]
  },
  {
   "cell_type": "markdown",
   "id": "e84313d6",
   "metadata": {},
   "source": [
    "# Формат ввода"
   ]
  },
  {
   "cell_type": "markdown",
   "id": "92d35534",
   "metadata": {},
   "source": [
    "В первой строке входного файла записано целое число N (1 ≤ N ≤ 100) - количество папок. Во второй строке записаны N целых чисел a1, a2, ..., aN (1 ≤ ai ≤ 100) - количество дипломов в каждой из папок."
   ]
  },
  {
   "cell_type": "markdown",
   "id": "a4dca6c3",
   "metadata": {},
   "source": [
    "# Формат вывода"
   ]
  },
  {
   "cell_type": "markdown",
   "id": "ebb5904d",
   "metadata": {},
   "source": [
    "Выведите одно число - минимальное количество секунд, необходимое Ивану в худшем случае для определения того, в какой папке содержится диплом."
   ]
  },
  {
   "cell_type": "markdown",
   "id": "a76fda4d",
   "metadata": {},
   "source": [
    "# Пример"
   ]
  },
  {
   "cell_type": "markdown",
   "id": "cf31d617",
   "metadata": {},
   "source": [
    "#1\n",
    "input: \n",
    "\n",
    "2\n",
    "\n",
    "2 1\n",
    "\n",
    "output:\n",
    "\n",
    "1\n"
   ]
  },
  {
   "cell_type": "markdown",
   "id": "7df7a133",
   "metadata": {},
   "source": [
    "# Решение задачи"
   ]
  },
  {
   "cell_type": "code",
   "execution_count": 1,
   "id": "e2b13a9b",
   "metadata": {},
   "outputs": [
    {
     "name": "stdout",
     "output_type": "stream",
     "text": [
      "2\n",
      "2 1\n"
     ]
    }
   ],
   "source": [
    "number_files = int(input())\n",
    "number_diplomas = list(map(int, input().split()))"
   ]
  },
  {
   "cell_type": "code",
   "execution_count": 2,
   "id": "1ccf3f79",
   "metadata": {},
   "outputs": [
    {
     "name": "stdout",
     "output_type": "stream",
     "text": [
      "1\n"
     ]
    }
   ],
   "source": [
    "if number_files == 1:\n",
    "    print(0)\n",
    "else:\n",
    "    print(sum(sorted(number_diplomas)[:-1]))"
   ]
  }
 ],
 "metadata": {
  "kernelspec": {
   "display_name": "Python 3 (ipykernel)",
   "language": "python",
   "name": "python3"
  },
  "language_info": {
   "codemirror_mode": {
    "name": "ipython",
    "version": 3
   },
   "file_extension": ".py",
   "mimetype": "text/x-python",
   "name": "python",
   "nbconvert_exporter": "python",
   "pygments_lexer": "ipython3",
   "version": "3.9.7"
  }
 },
 "nbformat": 4,
 "nbformat_minor": 5
}
