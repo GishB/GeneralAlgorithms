{
 "cells": [
  {
   "cell_type": "code",
   "execution_count": 1,
   "id": "c2a5605f",
   "metadata": {},
   "outputs": [
    {
     "data": {
      "text/plain": [
       "'A'"
      ]
     },
     "execution_count": 1,
     "metadata": {},
     "output_type": "execute_result"
    }
   ],
   "source": [
    "'A'.upper()"
   ]
  },
  {
   "cell_type": "code",
   "execution_count": 8,
   "id": "cd5a99d8",
   "metadata": {},
   "outputs": [
    {
     "data": {
      "text/plain": [
       "''"
      ]
     },
     "execution_count": 8,
     "metadata": {},
     "output_type": "execute_result"
    }
   ],
   "source": [
    "'Test Simple TExt'.join(\"\")"
   ]
  },
  {
   "cell_type": "code",
   "execution_count": 15,
   "id": "3164167c",
   "metadata": {},
   "outputs": [
    {
     "data": {
      "text/plain": [
       "'Test Simple Tet'"
      ]
     },
     "execution_count": 15,
     "metadata": {},
     "output_type": "execute_result"
    }
   ],
   "source": [
    "\"\".join('Test Simple Tet')"
   ]
  },
  {
   "cell_type": "code",
   "execution_count": 16,
   "id": "ef59f598",
   "metadata": {},
   "outputs": [],
   "source": [
    "test = 'Test Simple Tet'"
   ]
  },
  {
   "cell_type": "code",
   "execution_count": 21,
   "id": "f3c1693e",
   "metadata": {},
   "outputs": [
    {
     "data": {
      "text/plain": [
       "'T e s t   S i m p l e   T e t'"
      ]
     },
     "execution_count": 21,
     "metadata": {},
     "output_type": "execute_result"
    }
   ],
   "source": [
    "\" \".join(test)"
   ]
  },
  {
   "cell_type": "code",
   "execution_count": 24,
   "id": "b937b040",
   "metadata": {},
   "outputs": [
    {
     "data": {
      "text/plain": [
       "'T'"
      ]
     },
     "execution_count": 24,
     "metadata": {},
     "output_type": "execute_result"
    }
   ],
   "source": [
    "test.split(' ')[0][0]"
   ]
  },
  {
   "cell_type": "code",
   "execution_count": 42,
   "id": "96012b51",
   "metadata": {},
   "outputs": [],
   "source": [
    "def to_jaden_case(string):\n",
    "    return ' '.join([''.join([i[0].upper() + i[1:]]) for i in string.split(' ')])"
   ]
  },
  {
   "cell_type": "code",
   "execution_count": 43,
   "id": "3668f3e3",
   "metadata": {},
   "outputs": [],
   "source": [
    "test_2 = to_jaden_case(test)"
   ]
  },
  {
   "cell_type": "code",
   "execution_count": 44,
   "id": "542f6a17",
   "metadata": {},
   "outputs": [
    {
     "data": {
      "text/plain": [
       "'Test Simple Tet'"
      ]
     },
     "execution_count": 44,
     "metadata": {},
     "output_type": "execute_result"
    }
   ],
   "source": [
    "test_2"
   ]
  },
  {
   "cell_type": "code",
   "execution_count": 48,
   "id": "1062adbe",
   "metadata": {},
   "outputs": [
    {
     "data": {
      "text/plain": [
       "True"
      ]
     },
     "execution_count": 48,
     "metadata": {},
     "output_type": "execute_result"
    }
   ],
   "source": [
    "len('') == False"
   ]
  },
  {
   "cell_type": "code",
   "execution_count": null,
   "id": "caa22b6a",
   "metadata": {},
   "outputs": [],
   "source": []
  }
 ],
 "metadata": {
  "kernelspec": {
   "display_name": "Python 3 (ipykernel)",
   "language": "python",
   "name": "python3"
  },
  "language_info": {
   "codemirror_mode": {
    "name": "ipython",
    "version": 3
   },
   "file_extension": ".py",
   "mimetype": "text/x-python",
   "name": "python",
   "nbconvert_exporter": "python",
   "pygments_lexer": "ipython3",
   "version": "3.10.6"
  }
 },
 "nbformat": 4,
 "nbformat_minor": 5
}
