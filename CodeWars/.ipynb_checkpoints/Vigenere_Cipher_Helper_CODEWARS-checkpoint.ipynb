{
 "cells": [
  {
   "cell_type": "markdown",
   "id": "af9fa207",
   "metadata": {},
   "source": [
    "The Vigenère cipher is a classic cipher originally developed by Italian cryptographer Giovan Battista Bellaso and published in 1553. It is named after a later French cryptographer Blaise de Vigenère, who had developed a stronger autokey cipher (a cipher that incorporates the message of the text into the key).\n",
    "\n",
    "The cipher is easy to understand and implement, but survived three centuries of attempts to break it, earning it the nickname \"le chiffre indéchiffrable\" or \"the indecipherable cipher.\" "
   ]
  },
  {
   "cell_type": "markdown",
   "id": "f5deb315",
   "metadata": {},
   "source": [
    "Assume the key is repeated for the length of the text, character by character. Note that some implementations repeat the key over characters only if they are part of the alphabet -- this is not the case here.\n",
    "\n",
    "The shift is derived by applying a Caesar shift to a character with the corresponding index of the key in the alphabet.\n",
    "\n",
    "Visual representation:\n",
    "\n"
   ]
  },
  {
   "cell_type": "markdown",
   "id": "5b9d597f",
   "metadata": {},
   "source": [
    "    \"my secret code i want to secure\"  // message\n",
    "    \n",
    "    \"passwordpasswordpasswordpasswor\"  // key\n"
   ]
  },
  {
   "cell_type": "markdown",
   "id": "6c67edbf",
   "metadata": {},
   "source": [
    "# Task"
   ]
  },
  {
   "cell_type": "markdown",
   "id": "11fcb5ca",
   "metadata": {},
   "source": [
    "Write a class that, when given a key and an alphabet, can be used to encode and decode from the cipher."
   ]
  },
  {
   "cell_type": "markdown",
   "id": "ccdc4dab",
   "metadata": {},
   "source": [
    "# Example"
   ]
  },
  {
   "cell_type": "markdown",
   "id": "fadc118b",
   "metadata": {},
   "source": [
    "    var alphabet = 'abcdefghijklmnopqrstuvwxyz';\n",
    "\n",
    "    var key = 'password';\n",
    "\n",
    "    // creates a cipher helper with each letter substituted\n",
    "    // by the corresponding character in the key\n",
    "    var c = new VigenèreCipher(key, alphabet);\n",
    "\n",
    "    c.encode('codewars'); // returns 'rovwsoiv'\n",
    "    c.decode('laxxhsj');  // returns 'waffles'\n"
   ]
  },
  {
   "cell_type": "markdown",
   "id": "85a263da",
   "metadata": {},
   "source": [
    "# Solution "
   ]
  },
  {
   "cell_type": "code",
   "execution_count": 1,
   "id": "349704c5",
   "metadata": {},
   "outputs": [],
   "source": [
    "abc = \"abcdefghijklmnopqrstuvwxyz\"*2\n",
    "key = \"password\""
   ]
  },
  {
   "cell_type": "code",
   "execution_count": 5,
   "id": "5a0d4fa6",
   "metadata": {},
   "outputs": [],
   "source": [
    "class VigenereCipher(object):\n",
    "    def __init__(self, key, alphabet):\n",
    "        self.key = key \n",
    "        self.alphabet = alphabet\n",
    "    \n",
    "    def encode(self, text):\n",
    "        crypted_text = []\n",
    "        if len(text) > len(self.key):\n",
    "            self.key = self.key*(len(text)//len(self.key)+1)\n",
    "        for i in range(len(text)):\n",
    "            if text[i] in self.alphabet:\n",
    "                index_value = self.alphabet.index(text[i])\n",
    "                key_value = self.alphabet.index(self.key[i])\n",
    "                crypted_text.append(self.alphabet[key_value:][index_value])\n",
    "            else:\n",
    "                crypted_text.append(text[i])\n",
    "        return ''.join(crypted_text)\n",
    "    \n",
    "    def decode(self, text):\n",
    "        encrypted_text = []\n",
    "        if len(text) > len(self.key):\n",
    "            self.key = self.key*(len(text)//len(self.key)+1)\n",
    "        for i in range(len(text)):\n",
    "            if text[i] in self.alphabet:\n",
    "                index_value = self.alphabet.index(text[i])\n",
    "                key_value = self.alphabet.index(self.key[i])\n",
    "                encrypted_text.append(self.alphabet[index_value-key_value])\n",
    "            else:\n",
    "                encrypted_text.append(text[i])\n",
    "        return ''.join(encrypted_text)"
   ]
  },
  {
   "cell_type": "code",
   "execution_count": 6,
   "id": "759b6a21",
   "metadata": {},
   "outputs": [],
   "source": [
    "cipher = VigenereCipher(key=key, alphabet=abc)"
   ]
  },
  {
   "cell_type": "code",
   "execution_count": 7,
   "id": "544e2ca0",
   "metadata": {},
   "outputs": [
    {
     "data": {
      "text/plain": [
       "'codewarscodewars'"
      ]
     },
     "execution_count": 7,
     "metadata": {},
     "output_type": "execute_result"
    }
   ],
   "source": [
    "cipher.decode(cipher.encode('codewarscodewars'))"
   ]
  }
 ],
 "metadata": {
  "kernelspec": {
   "display_name": "Python 3 (ipykernel)",
   "language": "python",
   "name": "python3"
  },
  "language_info": {
   "codemirror_mode": {
    "name": "ipython",
    "version": 3
   },
   "file_extension": ".py",
   "mimetype": "text/x-python",
   "name": "python",
   "nbconvert_exporter": "python",
   "pygments_lexer": "ipython3",
   "version": "3.10.6"
  }
 },
 "nbformat": 4,
 "nbformat_minor": 5
}
