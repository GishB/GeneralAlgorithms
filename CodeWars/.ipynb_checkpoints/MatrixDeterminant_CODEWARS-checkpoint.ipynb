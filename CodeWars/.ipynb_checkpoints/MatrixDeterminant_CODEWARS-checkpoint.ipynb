{
 "cells": [
  {
   "cell_type": "markdown",
   "id": "0506eda8",
   "metadata": {},
   "source": [
    "Write a function that accepts a square matrix (N x N 2D array) and returns the determinant of the matrix.\n",
    "\n",
    "https://www.codewars.com/kata/52a382ee44408cea2500074c/train/python"
   ]
  },
  {
   "cell_type": "raw",
   "id": "878cea36",
   "metadata": {},
   "source": [
    "import codewars_test as test\n",
    "from solution import determinant\n",
    "\n",
    "\n",
    "@test.describe('Matrix determinant')\n",
    "def desc1():\n",
    "    @test.it(\"Basic tests\")\n",
    "    def _():\n",
    "        m1 = [[4, 6], [3,8]]\n",
    "        m5 = [[2,4,2],[3,1,1],[1,2,0]]\n",
    "\n",
    "        test.assert_equals(determinant([[5]]), 5, \"Determinant of a 1 x 1 matrix yields the value of the one element\")\n",
    "        test.assert_equals(determinant(m1), 14, \"Should return 4*8 - 3*6, i.e. 14\")\n",
    "        test.assert_equals(determinant(m5), 10, \"Should return the determinant of [[2,4,2],[3,1,1],[1,2,0]], i.e. 10\")"
   ]
  },
  {
   "cell_type": "markdown",
   "id": "d321ab1d",
   "metadata": {},
   "source": [
    "# Solution"
   ]
  },
  {
   "cell_type": "code",
   "execution_count": 21,
   "id": "f53dba35",
   "metadata": {},
   "outputs": [],
   "source": [
    "import numpy as np\n",
    "\n",
    "def determinant(a):\n",
    "    return round(np.linalg.det(np.matrix(a)))"
   ]
  },
  {
   "cell_type": "code",
   "execution_count": 22,
   "id": "a6f066e0",
   "metadata": {},
   "outputs": [],
   "source": [
    "test = [[1,2,3],[4,5,6],[7,8,9]]"
   ]
  },
  {
   "cell_type": "code",
   "execution_count": 23,
   "id": "be3462ba",
   "metadata": {},
   "outputs": [
    {
     "data": {
      "text/plain": [
       "0"
      ]
     },
     "execution_count": 23,
     "metadata": {},
     "output_type": "execute_result"
    }
   ],
   "source": [
    "determinant(test)"
   ]
  }
 ],
 "metadata": {
  "kernelspec": {
   "display_name": "Python 3 (ipykernel)",
   "language": "python",
   "name": "python3"
  },
  "language_info": {
   "codemirror_mode": {
    "name": "ipython",
    "version": 3
   },
   "file_extension": ".py",
   "mimetype": "text/x-python",
   "name": "python",
   "nbconvert_exporter": "python",
   "pygments_lexer": "ipython3",
   "version": "3.10.6"
  }
 },
 "nbformat": 4,
 "nbformat_minor": 5
}
