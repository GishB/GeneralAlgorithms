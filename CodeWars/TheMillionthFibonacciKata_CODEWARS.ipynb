{
 "cells": [
  {
   "cell_type": "markdown",
   "id": "51af8efb",
   "metadata": {},
   "source": [
    "# The Millionth Fibonacci Kata\n",
    "\n",
    "In this kata you will have to calculate fib(n) where:"
   ]
  },
  {
   "cell_type": "raw",
   "id": "0dd8e4d1",
   "metadata": {},
   "source": [
    "fib(0) := 0\n",
    "fib(1) := 1\n",
    "fin(n + 2) := fib(n + 1) + fib(n)"
   ]
  },
  {
   "cell_type": "markdown",
   "id": "b7bfc69a",
   "metadata": {},
   "source": [
    "Write an algorithm that can handle n up to 2000000.\n",
    "\n",
    "Your algorithm must output the exact integer answer, to full precision. Also, it must correctly handle negative numbers as input.\n",
    "\n",
    "HINT I: Can you rearrange the equation fib(n + 2) = fib(n + 1) + fib(n) to find fib(n) if you already know fib(n + 1) and fib(n + 2)? Use this to reason what value fib has to have for negative values.\n",
    "\n",
    "HINT II: See https://web.archive.org/web/20220614001843/https://mitpress.mit.edu/sites/default/files/sicp/full-text/book/book-Z-H-11.html#%_sec_1.2.4"
   ]
  },
  {
   "cell_type": "markdown",
   "id": "e6ab1951",
   "metadata": {},
   "source": [
    "# Example"
   ]
  },
  {
   "cell_type": "raw",
   "id": "463ab650",
   "metadata": {},
   "source": [
    "test.assert_equals(fib(0),0)\n",
    "test.assert_equals(fib(1),1)\n",
    "test.assert_equals(fib(2),1)\n",
    "test.assert_equals(fib(3),2)\n",
    "test.assert_equals(fib(4),3)\n",
    "test.assert_equals(fib(5),5)\n",
    "test.assert_equals(fib(1000),43466557686937456435688527675040625802564660517371780402481729089536555417949051890403879840079255169295922593080322634775209689623239873322471161642996440906533187938298969649928516003704476137795166849228875)"
   ]
  },
  {
   "cell_type": "markdown",
   "id": "066b84be",
   "metadata": {},
   "source": [
    "# Solution "
   ]
  },
  {
   "cell_type": "code",
   "execution_count": 47,
   "id": "f3f744ad",
   "metadata": {},
   "outputs": [],
   "source": [
    "def fib(n):\n",
    "    \"\"\"Calculates the nth Fibonacci number\"\"\"\n",
    "    dp = [0]\n",
    "    for i in range(abs(n)):\n",
    "        if len(dp) > 2:\n",
    "            dp.pop(0)\n",
    "        temp_value = sum(dp)\n",
    "        if i == 0:\n",
    "            dp.append(1)\n",
    "        else:\n",
    "            dp.append(temp_value)\n",
    "    answer = dp[-1]\n",
    "    if n < 0:\n",
    "        answer = answer*(-1)\n",
    "    return answer"
   ]
  },
  {
   "cell_type": "code",
   "execution_count": 49,
   "id": "c4e60469",
   "metadata": {},
   "outputs": [
    {
     "data": {
      "text/plain": [
       "-3"
      ]
     },
     "execution_count": 49,
     "metadata": {},
     "output_type": "execute_result"
    }
   ],
   "source": [
    "fib(-4)"
   ]
  }
 ],
 "metadata": {
  "kernelspec": {
   "display_name": "Python 3 (ipykernel)",
   "language": "python",
   "name": "python3"
  },
  "language_info": {
   "codemirror_mode": {
    "name": "ipython",
    "version": 3
   },
   "file_extension": ".py",
   "mimetype": "text/x-python",
   "name": "python",
   "nbconvert_exporter": "python",
   "pygments_lexer": "ipython3",
   "version": "3.10.6"
  }
 },
 "nbformat": 4,
 "nbformat_minor": 5
}
