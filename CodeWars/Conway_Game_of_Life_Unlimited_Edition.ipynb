{
 "cells": [
  {
   "cell_type": "markdown",
   "id": "a4edd2f7",
   "metadata": {},
   "source": [
    "### https://www.codewars.com/kata/52423db9add6f6fc39000354/train/python\n",
    "\n",
    "# 4 kyu\n",
    "\n",
    "Given a 2D array and a number of generations, compute n timesteps of Conway's Game of Life.\n",
    "\n",
    "The rules of the game are:\n",
    "\n",
    "    Any live cell with fewer than two live neighbours dies, as if caused by underpopulation.\n",
    "    Any live cell with more than three live neighbours dies, as if by overcrowding.\n",
    "    Any live cell with two or three live neighbours lives on to the next generation.\n",
    "    Any dead cell with exactly three live neighbours becomes a live cell.\n",
    "\n",
    "Each cell's neighborhood is the 8 cells immediately around it (i.e. Moore Neighborhood). The universe is infinite in both the x and y dimensions and all cells are initially dead - except for those specified in the arguments. The return value should be a 2d array cropped around all of the living cells. (If there are no living cells, then return [[]].)\n",
    "\n",
    "For illustration purposes, 0 and 1 will be represented as ░░ and ▓▓ blocks respectively (PHP, C: plain black and white squares). You can take advantage of the htmlize function to get a text representation of the universe, e.g.:"
   ]
  },
  {
   "cell_type": "raw",
   "id": "195a67e1",
   "metadata": {},
   "source": [
    "# -*- coding: utf-8 -*-\n",
    "def htmlize(array):\n",
    "    s = []\n",
    "    for row in array:\n",
    "        for cell in row:\n",
    "            s.append('▓▓' if cell else '░░')\n",
    "        s.append('<:LF:>')\n",
    "    return ''.join(s)\n",
    "\n",
    "start = [[1,0,0],\n",
    "         [0,1,1],\n",
    "         [1,1,0]]\n",
    "end   = [[0,1,0],\n",
    "         [0,0,1],\n",
    "         [1,1,1]]\n",
    "         \n",
    "test.describe('Glider<:LF:>' + htmlize(start))\n",
    "test.it('Glider 1')\n",
    "\n",
    "resp = get_generation(start, 1)\n",
    "test.expect(resp == end, 'Got<:LF:>' + htmlize(resp) + '<:LF:>instead of<:LF:>' + htmlize(end))"
   ]
  },
  {
   "cell_type": "markdown",
   "id": "d8d202f9",
   "metadata": {},
   "source": [
    "# Solution"
   ]
  },
  {
   "cell_type": "code",
   "execution_count": 71,
   "id": "bae2aef8",
   "metadata": {},
   "outputs": [],
   "source": [
    "start = [[1,0,0],\n",
    "         [0,1,1],\n",
    "         [1,1,0]]"
   ]
  },
  {
   "cell_type": "code",
   "execution_count": 79,
   "id": "22b8a2ae",
   "metadata": {},
   "outputs": [],
   "source": [
    "def get_neighbours(x, y):\n",
    "    return {(x + i, y + j) for i in range(-1, 2) for j in range(-1, 2)}\n",
    "\n",
    "def get_generation(cells, generations):\n",
    "    if not cells: return cells\n",
    "    xm, ym, xM, yM = 0, 0, len(cells[0]) - 1, len(cells) - 1\n",
    "    cells = {(x, y) for y, l in enumerate(cells) for x, c in enumerate(l) if c}\n",
    "    for _ in range(generations):\n",
    "        cells = {(x, y) for x in range(xm - 1, xM + 2) for y in range(ym - 1, yM + 2)\n",
    "                    if 2 < len(cells & get_neighbours(x, y)) < 4 + ((x, y) in cells)}\n",
    "        xm, ym = min(x for x, y in cells), min(y for x, y in cells)\n",
    "        xM, yM = max(x for x, y in cells), max(y for x, y in cells)\n",
    "    return [[int((x, y) in cells) for x in range(xm, xM + 1)] for y in range(ym, yM + 1)]"
   ]
  },
  {
   "cell_type": "code",
   "execution_count": 86,
   "id": "8ceca6dd",
   "metadata": {},
   "outputs": [
    {
     "data": {
      "text/plain": [
       "[[0, 1, 0], [0, 0, 1], [1, 1, 1]]"
      ]
     },
     "execution_count": 86,
     "metadata": {},
     "output_type": "execute_result"
    }
   ],
   "source": [
    "get_generation(start, 5)"
   ]
  }
 ],
 "metadata": {
  "kernelspec": {
   "display_name": "Python 3 (ipykernel)",
   "language": "python",
   "name": "python3"
  },
  "language_info": {
   "codemirror_mode": {
    "name": "ipython",
    "version": 3
   },
   "file_extension": ".py",
   "mimetype": "text/x-python",
   "name": "python",
   "nbconvert_exporter": "python",
   "pygments_lexer": "ipython3",
   "version": "3.10.6"
  }
 },
 "nbformat": 4,
 "nbformat_minor": 5
}
