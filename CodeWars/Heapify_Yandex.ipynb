{
 "cells": [
  {
   "cell_type": "markdown",
   "id": "7cc86f89",
   "metadata": {},
   "source": [
    "# 19. Хипуй"
   ]
  },
  {
   "cell_type": "markdown",
   "id": "6e65eee0",
   "metadata": {},
   "source": [
    "В этой задаче вам необходимо самостоятельно (не используя соответствующие классы и функции стандартной библиотеки) организовать структуру данных Heap для хранения целых чисел, над которой определены следующие операции: a) Insert(k) – добавить в Heap число k ; b) Extract достать из Heap наибольшее число (удалив его при этом). "
   ]
  },
  {
   "cell_type": "markdown",
   "id": "794327d8",
   "metadata": {},
   "source": [
    "# Формат ввода:"
   ]
  },
  {
   "cell_type": "markdown",
   "id": "fdfe833c",
   "metadata": {},
   "source": [
    "В первой строке содержится количество команд N (1 ≤ N ≤ 100000), далее следуют N команд, каждая в своей строке. Команда может иметь формат: “0 <число>” или “1”, обозначающий, соответственно, операции Insert(<число>) и Extract. Гарантируется, что при выполнении команды Extract в структуре находится по крайней мере один элемент. "
   ]
  },
  {
   "cell_type": "markdown",
   "id": "2702d7a3",
   "metadata": {},
   "source": [
    "# Формат вывода:"
   ]
  },
  {
   "cell_type": "markdown",
   "id": "bc183a8c",
   "metadata": {},
   "source": [
    "Для каждой команды извлечения необходимо отдельной строкой вывести число, полученное при выполнении команды Extract. "
   ]
  },
  {
   "cell_type": "markdown",
   "id": "eba7c003",
   "metadata": {},
   "source": [
    "# Пример:"
   ]
  },
  {
   "cell_type": "markdown",
   "id": "ca7b02af",
   "metadata": {},
   "source": [
    "### Ввод:\n",
    "\n",
    "    14\n",
    "    0 1\n",
    "    0 345\n",
    "    1\n",
    "    0 4346\n",
    "    1\n",
    "    0 2435\n",
    "    1\n",
    "    0 235\n",
    "    0 5\n",
    "    0 365\n",
    "    1\n",
    "    1\n",
    "    1\n",
    "    1"
   ]
  },
  {
   "cell_type": "markdown",
   "id": "e2005667",
   "metadata": {},
   "source": [
    "### Вывод\n",
    "\n",
    "    345\n",
    "    4346\n",
    "    2435\n",
    "    365\n",
    "    235\n",
    "    5\n",
    "    1"
   ]
  },
  {
   "cell_type": "markdown",
   "id": "6edd9a7e",
   "metadata": {},
   "source": [
    "# Решение:"
   ]
  },
  {
   "cell_type": "code",
   "execution_count": 7,
   "id": "2747d3ac",
   "metadata": {},
   "outputs": [
    {
     "name": "stdout",
     "output_type": "stream",
     "text": [
      "14\n",
      "0 1\n",
      "0 345\n",
      "1\n",
      "345\n",
      "0 4346\n",
      "1\n",
      "4346\n",
      "0 2435\n",
      "1\n",
      "2435\n",
      "0 235\n",
      "0 5\n",
      "0 365\n",
      "1\n",
      "365\n",
      "1\n",
      "235\n",
      "1\n",
      "5\n",
      "1\n",
      "1\n"
     ]
    }
   ],
   "source": [
    "n = int(input())\n",
    "arr = []\n",
    "count=0\n",
    "while True:\n",
    "    x = input().split()\n",
    "    if len(x) == 1:\n",
    "        print(arr[0])\n",
    "        arr[0] = arr[len(arr)-1]\n",
    "        arr.pop()\n",
    "        i = 0\n",
    "        while i*2+2 < len(arr):\n",
    "            if arr[2*i+1] > arr[i] or arr[2*i+2] > arr[i]:\n",
    "                if arr[2*i+1] > arr[2*i+2]:\n",
    "                    arr[i], arr[2*i+1] = arr[2*i+1], arr[i]\n",
    "                    i = 2*i+1\n",
    "                else:\n",
    "                    arr[i], arr[2*i+2] = arr[2*i+2], arr[i]\n",
    "                    i = 2 * i + 2\n",
    "            else:\n",
    "                break\n",
    "        if 2*i+1 < len(arr) and arr[2 * i + 1] > arr[i]:\n",
    "            arr[i], arr[2 * i + 1] = arr[2 * i + 1], arr[i]\n",
    "    else:\n",
    "        tmp = int(x[1])\n",
    "        arr.append(tmp)\n",
    "        i = len(arr) - 1\n",
    "        while i > 0 and arr[(i-1)//2] < arr[i]:\n",
    "            arr[i], arr[(i-1)//2] = arr[(i-1)//2], arr[i]\n",
    "            i = (i - 1) // 2\n",
    "    count+=1\n",
    "    if count == n:\n",
    "        break"
   ]
  }
 ],
 "metadata": {
  "kernelspec": {
   "display_name": "Python 3 (ipykernel)",
   "language": "python",
   "name": "python3"
  },
  "language_info": {
   "codemirror_mode": {
    "name": "ipython",
    "version": 3
   },
   "file_extension": ".py",
   "mimetype": "text/x-python",
   "name": "python",
   "nbconvert_exporter": "python",
   "pygments_lexer": "ipython3",
   "version": "3.10.6"
  }
 },
 "nbformat": 4,
 "nbformat_minor": 5
}
