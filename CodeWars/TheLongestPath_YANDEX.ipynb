{
 "cells": [
  {
   "cell_type": "markdown",
   "id": "6af530ef",
   "metadata": {},
   "source": [
    "# 27. Вывести маршрут максимальной стоимости"
   ]
  },
  {
   "cell_type": "markdown",
   "id": "d87e1404",
   "metadata": {},
   "source": [
    "В левом верхнем углу прямоугольной таблицы размером N×M находится черепашка. В каждой клетке таблицы записано некоторое число. Черепашка может перемещаться вправо или вниз, при этом маршрут черепашки заканчивается в правом нижнем углу таблицы.\n",
    "\n",
    "Подсчитаем сумму чисел, записанных в клетках, через которую проползла черепашка (включая начальную и конечную клетку). Найдите наибольшее возможное значение этой суммы и маршрут, на котором достигается эта сумма. "
   ]
  },
  {
   "cell_type": "markdown",
   "id": "e3b5d4fa",
   "metadata": {},
   "source": [
    "# Формат ввода:\n",
    "\n",
    "В первой строке входных данных записаны два натуральных числа N и M, не превосходящих 100 — размеры таблицы. Далее идет N строк, каждая из которых содержит M чисел, разделенных пробелами — описание таблицы. Все числа в клетках таблицы целые и могут принимать значения от 0 до 100. "
   ]
  },
  {
   "cell_type": "markdown",
   "id": "94a05269",
   "metadata": {},
   "source": [
    "# Формат вывода:\n",
    "\n",
    "Первая строка выходных данных содержит максимальную возможную сумму, вторая — маршрут, на котором достигается эта сумма. Маршрут выводится в виде последовательности, которая должна содержать N-1 букву D, означающую передвижение вниз и M-1 букву R, означающую передвижение направо. Если таких последовательностей несколько, необходимо вывести ровно одну (любую) из них. "
   ]
  },
  {
   "cell_type": "markdown",
   "id": "583a314f",
   "metadata": {},
   "source": [
    "# Пример"
   ]
  },
  {
   "cell_type": "raw",
   "id": "638136a6",
   "metadata": {},
   "source": [
    "Ввод:\n",
    "\n",
    "    5 5\n",
    "    9 9 9 9 9\n",
    "    3 0 0 0 0\n",
    "    9 9 9 9 9\n",
    "    6 6 6 6 8\n",
    "    9 9 9 9 9"
   ]
  },
  {
   "cell_type": "raw",
   "id": "b1bc34d6",
   "metadata": {},
   "source": [
    "Вывод:\n",
    "    \n",
    "    74\n",
    "    D D R R R R D D"
   ]
  },
  {
   "cell_type": "markdown",
   "id": "fec9c57a",
   "metadata": {},
   "source": [
    "# Решение:"
   ]
  },
  {
   "cell_type": "code",
   "execution_count": 26,
   "id": "e4e145b6",
   "metadata": {},
   "outputs": [
    {
     "name": "stdout",
     "output_type": "stream",
     "text": [
      "5 5\n",
      "9 9 9 9 9\n",
      "3 0 0 0 0\n",
      "9 9 9 9 9\n",
      "6 6 6 6 8\n",
      "9 9 9 9 9\n",
      "74\n",
      "D D R R R R D D\n"
     ]
    }
   ],
   "source": [
    "n, m = map(int,input().split())\n",
    "arr, ans_lst =[list(map(int,input().split())) for i in range(n)], []\n",
    "count1, count2 = 0, 0\n",
    "for i in range(n):\n",
    "    for j in range(m):\n",
    "        if i >= 1 and j >= 0: count1 = arr[i - 1][j]\n",
    "        if i >= 0 and j >= 1: count2 = arr[i][j - 1]\n",
    "        arr[i][j] += max(count1, count2)\n",
    "        count1, count2 = 0, 0\n",
    "i, j = n - 1, m - 1\n",
    "while i != 0 or j != 0:\n",
    "    if j >= 1 and i >= 1:\n",
    "        if arr[i][j - 1] > arr[i - 1][j]:ans_lst.append(\"R\")\n",
    "        else:ans_lst.append(\"D\")\n",
    "    else:\n",
    "        if j >= 1:ans_lst.append(\"R\")\n",
    "        else:ans_lst.append(\"D\")\n",
    "    if ans_lst[-1] == \"D\":i -= 1\n",
    "    else:j -= 1\n",
    "print(arr[-1][-1])    \n",
    "print(*(ans_lst[::-1]))"
   ]
  }
 ],
 "metadata": {
  "kernelspec": {
   "display_name": "Python 3 (ipykernel)",
   "language": "python",
   "name": "python3"
  },
  "language_info": {
   "codemirror_mode": {
    "name": "ipython",
    "version": 3
   },
   "file_extension": ".py",
   "mimetype": "text/x-python",
   "name": "python",
   "nbconvert_exporter": "python",
   "pygments_lexer": "ipython3",
   "version": "3.10.6"
  }
 },
 "nbformat": 4,
 "nbformat_minor": 5
}
