{
 "cells": [
  {
   "cell_type": "markdown",
   "id": "4653a638",
   "metadata": {},
   "source": [
    "# Гвоздики"
   ]
  },
  {
   "cell_type": "markdown",
   "id": "b32afc92",
   "metadata": {},
   "source": [
    "В дощечке в один ряд вбиты гвоздики. Любые два гвоздика можно соединить ниточкой. Требуется соединить некоторые пары гвоздиков ниточками так, чтобы к каждому гвоздику была привязана хотя бы одна ниточка, а суммарная длина всех ниточек была минимальна. "
   ]
  },
  {
   "cell_type": "markdown",
   "id": "ad2905df",
   "metadata": {},
   "source": [
    "# Ввод:"
   ]
  },
  {
   "cell_type": "markdown",
   "id": "381f75d6",
   "metadata": {},
   "source": [
    "В первой строке входных данных записано число N — количество гвоздиков (2 ≤ N ≤ 100). В следующей строке заданы N чисел — координаты всех гвоздиков (неотрицательные целые числа, не превосходящие 10000). "
   ]
  },
  {
   "cell_type": "markdown",
   "id": "c27f65c2",
   "metadata": {},
   "source": [
    "# Вывод:"
   ]
  },
  {
   "cell_type": "markdown",
   "id": "5b9285ef",
   "metadata": {},
   "source": [
    "Выведите единственное число — минимальную суммарную длину всех ниточек."
   ]
  },
  {
   "cell_type": "markdown",
   "id": "2d499351",
   "metadata": {},
   "source": [
    "# Решение:"
   ]
  },
  {
   "cell_type": "code",
   "execution_count": 74,
   "id": "48a81ddd",
   "metadata": {},
   "outputs": [
    {
     "name": "stdout",
     "output_type": "stream",
     "text": [
      "3\n",
      "1 3 6\n",
      "5\n"
     ]
    }
   ],
   "source": [
    "n = int(input())\n",
    "nails = sorted(list(map(int, input().split())))\n",
    "\n",
    "dp = [0]*n\n",
    "\n",
    "dp[1] = nails[1] - nails[0]\n",
    "if n > 2:\n",
    "    dp[2] = nails[2] - nails[0]\n",
    "    for i in range(3, n):\n",
    "        dp[i] = min(dp[i-1], dp[i-2]) + nails[i] - nails[i-1]\n",
    "print(dp[-1])"
   ]
  },
  {
   "cell_type": "code",
   "execution_count": null,
   "id": "9ac08620",
   "metadata": {},
   "outputs": [],
   "source": []
  }
 ],
 "metadata": {
  "kernelspec": {
   "display_name": "Python 3 (ipykernel)",
   "language": "python",
   "name": "python3"
  },
  "language_info": {
   "codemirror_mode": {
    "name": "ipython",
    "version": 3
   },
   "file_extension": ".py",
   "mimetype": "text/x-python",
   "name": "python",
   "nbconvert_exporter": "python",
   "pygments_lexer": "ipython3",
   "version": "3.10.6"
  }
 },
 "nbformat": 4,
 "nbformat_minor": 5
}
