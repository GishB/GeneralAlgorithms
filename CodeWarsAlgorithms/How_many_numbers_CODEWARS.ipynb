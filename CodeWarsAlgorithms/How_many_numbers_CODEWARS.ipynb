{
 "cells": [
  {
   "cell_type": "markdown",
   "id": "123a4d83",
   "metadata": {},
   "source": [
    "We want to generate all the numbers of three digits where:\n",
    "\n",
    "    the sum of their digits is equal to 10\n",
    "    their digits are in increasing order (the numbers may have two or more equal contiguous digits)\n",
    "\n",
    "The numbers that fulfill these constraints are: [118, 127, 136, 145, 226, 235, 244, 334]. There're 8 numbers in total with 118 being the lowest and 334 being the greatest."
   ]
  },
  {
   "cell_type": "markdown",
   "id": "e5b78068",
   "metadata": {},
   "source": [
    "Implement a function which receives two arguments:\n",
    "\n",
    "    the sum of digits (sum)\n",
    "    the number of digits (count)\n",
    "\n",
    "This function should return three values:\n",
    "\n",
    "    the total number of values which have count digits that add up to sum and are in increasing order\n",
    "    the lowest such value\n",
    "    the greatest such value\n",
    "\n",
    "Note: if there're no values which satisfy these constaints, you should return an empty value (refer to the examples to see what exactly is expected)."
   ]
  },
  {
   "cell_type": "code",
   "execution_count": null,
   "id": "a823f876",
   "metadata": {},
   "outputs": [],
   "source": [
    "from itertools import combinations_with_replacement\n",
    "\n",
    "def find_all(sum_dig, digs):\n",
    "    combs = combinations_with_replacement(list(range(1, 10)), digs)\n",
    "    target = [''.join(str (x) for x in list(comb)) for comb in combs if sum(comb) == sum_dig]\n",
    "    if not target:\n",
    "        return []\n",
    "    return [len(target), int(target[0]), int(target[-1])]"
   ]
  },
  {
   "cell_type": "code",
   "execution_count": 98,
   "id": "ca301775",
   "metadata": {},
   "outputs": [
    {
     "data": {
      "text/plain": [
       "[8, 118, 334]"
      ]
     },
     "execution_count": 98,
     "metadata": {},
     "output_type": "execute_result"
    }
   ],
   "source": [
    "find_all(10, 3)"
   ]
  },
  {
   "cell_type": "code",
   "execution_count": 113,
   "id": "47a5a965",
   "metadata": {},
   "outputs": [],
   "source": [
    "combs = combinations_with_replacement(list(range(1, 10)), 3);\n",
    "target = [''.join(str (x) for x in list(comb)) for comb in combs if sum(comb) == 10]"
   ]
  }
 ],
 "metadata": {
  "kernelspec": {
   "display_name": "Python 3 (ipykernel)",
   "language": "python",
   "name": "python3"
  },
  "language_info": {
   "codemirror_mode": {
    "name": "ipython",
    "version": 3
   },
   "file_extension": ".py",
   "mimetype": "text/x-python",
   "name": "python",
   "nbconvert_exporter": "python",
   "pygments_lexer": "ipython3",
   "version": "3.10.6"
  }
 },
 "nbformat": 4,
 "nbformat_minor": 5
}
