{
 "cells": [
  {
   "cell_type": "code",
   "execution_count": 10,
   "id": "68207dfb",
   "metadata": {},
   "outputs": [],
   "source": [
    "def unique_in_order(sequence):\n",
    "    queue = [0]\n",
    "    result = []\n",
    "    for i in sequence:\n",
    "        first = queue.pop(-1)\n",
    "        if first != i:\n",
    "            result.append(i)\n",
    "            queue.append(i)\n",
    "        else:\n",
    "            queue.append(i)\n",
    "    return result"
   ]
  },
  {
   "cell_type": "code",
   "execution_count": 11,
   "id": "3584d2da",
   "metadata": {},
   "outputs": [
    {
     "data": {
      "text/plain": [
       "['A', 'B']"
      ]
     },
     "execution_count": 11,
     "metadata": {},
     "output_type": "execute_result"
    }
   ],
   "source": [
    "unique_in_order(['A','A','B'])"
   ]
  },
  {
   "cell_type": "markdown",
   "id": "0c014058",
   "metadata": {},
   "source": [
    "unique_in_order('AAAABBBCCDAABBB') == ['A', 'B', 'C', 'D', 'A', 'B']\n",
    "\n",
    "unique_in_order('ABBCcAD')         == ['A', 'B', 'C', 'c', 'A', 'D']\n",
    "\n",
    "unique_in_order([1, 2, 2, 3, 3])   == [1, 2, 3]\n",
    "\n",
    "unique_in_order((1, 2, 2, 3, 3))   == [1, 2, 3]"
   ]
  }
 ],
 "metadata": {
  "kernelspec": {
   "display_name": "Python 3 (ipykernel)",
   "language": "python",
   "name": "python3"
  },
  "language_info": {
   "codemirror_mode": {
    "name": "ipython",
    "version": 3
   },
   "file_extension": ".py",
   "mimetype": "text/x-python",
   "name": "python",
   "nbconvert_exporter": "python",
   "pygments_lexer": "ipython3",
   "version": "3.10.6"
  }
 },
 "nbformat": 4,
 "nbformat_minor": 5
}
