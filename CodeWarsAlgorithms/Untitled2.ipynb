{
 "cells": [
  {
   "cell_type": "code",
   "execution_count": 4,
   "id": "23480554",
   "metadata": {},
   "outputs": [
    {
     "name": "stdout",
     "output_type": "stream",
     "text": [
      "n = 6\n",
      "m = 4 5\n"
     ]
    },
    {
     "ename": "ValueError",
     "evalue": "invalid literal for int() with base 10: '4 5'",
     "output_type": "error",
     "traceback": [
      "\u001b[0;31m---------------------------------------------------------------------------\u001b[0m",
      "\u001b[0;31mValueError\u001b[0m                                Traceback (most recent call last)",
      "Cell \u001b[0;32mIn[4], line 5\u001b[0m\n\u001b[1;32m      3\u001b[0m \u001b[38;5;28;01mfor\u001b[39;00m i \u001b[38;5;129;01min\u001b[39;00m \u001b[38;5;28mrange\u001b[39m(n):\n\u001b[1;32m      4\u001b[0m     lis\u001b[38;5;241m.\u001b[39mappend(\u001b[38;5;28mset\u001b[39m([i\u001b[38;5;241m+\u001b[39m\u001b[38;5;241m1\u001b[39m]))\n\u001b[0;32m----> 5\u001b[0m m \u001b[38;5;241m=\u001b[39m \u001b[38;5;28;43mint\u001b[39;49m\u001b[43m(\u001b[49m\u001b[43m \u001b[49m\u001b[38;5;28;43minput\u001b[39;49m\u001b[43m(\u001b[49m\u001b[38;5;124;43m'\u001b[39;49m\u001b[38;5;124;43mm = \u001b[39;49m\u001b[38;5;124;43m'\u001b[39;49m\u001b[43m)\u001b[49m\u001b[43m \u001b[49m\u001b[43m)\u001b[49m\n\u001b[1;32m      6\u001b[0m \u001b[38;5;28;01mfor\u001b[39;00m i \u001b[38;5;129;01min\u001b[39;00m \u001b[38;5;28mrange\u001b[39m(m):\n\u001b[1;32m      7\u001b[0m     a,b \u001b[38;5;241m=\u001b[39m \u001b[38;5;28mmap\u001b[39m( \u001b[38;5;28mint\u001b[39m, \u001b[38;5;28minput\u001b[39m(\u001b[38;5;124m'\u001b[39m\u001b[38;5;124m-> \u001b[39m\u001b[38;5;124m'\u001b[39m)\u001b[38;5;241m.\u001b[39msplit() )\n",
      "\u001b[0;31mValueError\u001b[0m: invalid literal for int() with base 10: '4 5'"
     ]
    }
   ],
   "source": [
    "n = int( input('n = ') )\n",
    "lis = []\n",
    "for i in range(n):\n",
    "    lis.append(set([i+1]))\n",
    "m = int( input('m = ') )\n",
    "for i in range(m):\n",
    "    a,b = map( int, input('-> ').split() )\n",
    "    a_set = None\n",
    "    b_set = None\n",
    "    for e in lis:\n",
    "        if a in e:\n",
    "            a_set = e\n",
    "        if b in e:\n",
    "            b_set = e\n",
    "    if a_set != b_set:\n",
    "        lis.remove( a_set )\n",
    "        lis.remove( b_set )\n",
    "        lis.append( a_set | b_set )\n",
    "print( len(lis) )\n",
    "for e in lis:\n",
    "    print( len(e) )\n",
    "    print( *e )"
   ]
  },
  {
   "cell_type": "code",
   "execution_count": null,
   "id": "38b117c1",
   "metadata": {},
   "outputs": [],
   "source": [
    "4 5\n",
    "2 2\n",
    "3 4\n",
    "2 3\n",
    "1 3\n",
    "2 4"
   ]
  }
 ],
 "metadata": {
  "kernelspec": {
   "display_name": "Python 3 (ipykernel)",
   "language": "python",
   "name": "python3"
  },
  "language_info": {
   "codemirror_mode": {
    "name": "ipython",
    "version": 3
   },
   "file_extension": ".py",
   "mimetype": "text/x-python",
   "name": "python",
   "nbconvert_exporter": "python",
   "pygments_lexer": "ipython3",
   "version": "3.10.6"
  }
 },
 "nbformat": 4,
 "nbformat_minor": 5
}
