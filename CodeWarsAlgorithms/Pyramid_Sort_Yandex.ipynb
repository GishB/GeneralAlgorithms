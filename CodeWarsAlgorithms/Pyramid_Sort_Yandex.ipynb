{
 "cells": [
  {
   "cell_type": "markdown",
   "id": "d7ed09d0",
   "metadata": {},
   "source": [
    "# 20. Пирамидальная сортировка\n",
    "https://contest.yandex.ru/contest/45468/problems/20/\n",
    "\n",
    "https://www.youtube.com/watch?v=sAyOhkMZae4"
   ]
  },
  {
   "cell_type": "markdown",
   "id": "c965a4ce",
   "metadata": {},
   "source": [
    "Отсортируйте данный массив. Используйте пирамидальную сортировку. "
   ]
  },
  {
   "cell_type": "markdown",
   "id": "0f0c8193",
   "metadata": {},
   "source": [
    "# Ввод:"
   ]
  },
  {
   "cell_type": "markdown",
   "id": "b0b04b32",
   "metadata": {},
   "source": [
    "Первая строка входных данных содержит количество элементов в массиве N, N ≤ 105. Далее задаются N целых чисел, не превосходящих по абсолютной величине 109. "
   ]
  },
  {
   "cell_type": "markdown",
   "id": "bb238492",
   "metadata": {},
   "source": [
    "# Вывод:"
   ]
  },
  {
   "cell_type": "markdown",
   "id": "93f34cec",
   "metadata": {},
   "source": [
    "Выведите эти числа в порядке неубывания. "
   ]
  },
  {
   "cell_type": "markdown",
   "id": "d8c7c4a4",
   "metadata": {},
   "source": [
    "# Пример:"
   ]
  },
  {
   "cell_type": "markdown",
   "id": "41fdaf89",
   "metadata": {},
   "source": [
    "Ввод:\n",
    "    \n",
    "    2\n",
    "    3 1\n",
    "    \n",
    "Вывод:\n",
    "\n",
    "    1 3 "
   ]
  },
  {
   "cell_type": "markdown",
   "id": "4869dcde",
   "metadata": {},
   "source": [
    "# Решение:"
   ]
  },
  {
   "cell_type": "code",
   "execution_count": 55,
   "id": "71b0b72b",
   "metadata": {
    "scrolled": true
   },
   "outputs": [
    {
     "name": "stdout",
     "output_type": "stream",
     "text": [
      "5\n",
      "5 3 0 2 1\n"
     ]
    }
   ],
   "source": [
    "n = int(input())\n",
    "array = list(map(int, input().split()))"
   ]
  },
  {
   "cell_type": "code",
   "execution_count": 56,
   "id": "430d2c7e",
   "metadata": {},
   "outputs": [],
   "source": [
    "def heapify(arr, n, i):\n",
    "    largest = i # Initialize largest as root\n",
    "    l = 2 * i + 1 # left child = 2*i + 1 - \n",
    "    r = 2 * i + 2 # right child = 2*i + 2\n",
    "\n",
    "    if l < n and arr[i] < arr[l]:\n",
    "        largest = l\n",
    "\n",
    "    if r < n and arr[largest] < arr[r]:\n",
    "        largest = r\n",
    "\n",
    "    if largest != i:\n",
    "        (arr[i], arr[largest]) = (arr[largest], arr[i]) # swap child and parent\n",
    "        heapify(arr, n, largest) #while we havent found local min for this value\n",
    "\n",
    "\n",
    "def heapSort(arr):\n",
    "    n = len(arr)\n",
    "\n",
    "    for i in range(n // 2 - 1, -1, -1): \n",
    "        heapify(arr, n, i)\n",
    "\n",
    "    for i in range(n - 1, 0, -1):\n",
    "        (arr[i], arr[0]) = (arr[0], arr[i]) # swap\n",
    "        heapify(arr, i, 0)"
   ]
  },
  {
   "cell_type": "code",
   "execution_count": 57,
   "id": "639d1462",
   "metadata": {},
   "outputs": [
    {
     "name": "stdout",
     "output_type": "stream",
     "text": [
      "0 1 2 3 5\n"
     ]
    }
   ],
   "source": [
    "heapSort(array)\n",
    "print(' '.join(str(x) for x in array))"
   ]
  }
 ],
 "metadata": {
  "kernelspec": {
   "display_name": "Python 3 (ipykernel)",
   "language": "python",
   "name": "python3"
  },
  "language_info": {
   "codemirror_mode": {
    "name": "ipython",
    "version": 3
   },
   "file_extension": ".py",
   "mimetype": "text/x-python",
   "name": "python",
   "nbconvert_exporter": "python",
   "pygments_lexer": "ipython3",
   "version": "3.10.6"
  }
 },
 "nbformat": 4,
 "nbformat_minor": 5
}
