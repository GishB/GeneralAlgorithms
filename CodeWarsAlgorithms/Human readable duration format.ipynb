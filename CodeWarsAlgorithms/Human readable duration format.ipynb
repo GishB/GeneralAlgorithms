{
 "cells": [
  {
   "cell_type": "markdown",
   "id": "5f688c08",
   "metadata": {},
   "source": [
    "\n",
    "test.assert_equals(format_duration(1), \"1 second\")\n",
    "\n",
    "test.assert_equals(format_duration(62), \"1 minute and 2 seconds\")\n",
    "\n",
    "test.assert_equals(format_duration(120), \"2 minutes\")\n",
    "\n",
    "test.assert_equals(format_duration(3600), \"1 hour\")\n",
    "\n",
    "test.assert_equals(format_duration(3662), \"1 hour, 1 minute and 2 seconds\")\n",
    "\n",
    "https://www.codewars.com/kata/52742f58faf5485cae000b9a/train/python"
   ]
  },
  {
   "cell_type": "code",
   "execution_count": 16,
   "id": "af53eefd",
   "metadata": {},
   "outputs": [
    {
     "data": {
      "text/plain": [
       "61"
      ]
     },
     "execution_count": 16,
     "metadata": {},
     "output_type": "execute_result"
    }
   ],
   "source": [
    "3662 // 60 #minute"
   ]
  },
  {
   "cell_type": "code",
   "execution_count": 17,
   "id": "4fd67a9f",
   "metadata": {},
   "outputs": [
    {
     "data": {
      "text/plain": [
       "1"
      ]
     },
     "execution_count": 17,
     "metadata": {},
     "output_type": "execute_result"
    }
   ],
   "source": [
    "3662 // (60*60) #hours"
   ]
  },
  {
   "cell_type": "code",
   "execution_count": 19,
   "id": "60284db6",
   "metadata": {},
   "outputs": [
    {
     "data": {
      "text/plain": [
       "0"
      ]
     },
     "execution_count": 19,
     "metadata": {},
     "output_type": "execute_result"
    }
   ],
   "source": [
    "3662 // (60*60*24) #days"
   ]
  },
  {
   "cell_type": "code",
   "execution_count": 51,
   "id": "b2bc0cd7",
   "metadata": {},
   "outputs": [],
   "source": [
    "def format_duration(seconds):\n",
    "    sequence = []\n",
    "    if len(str(seconds)) != 0:\n",
    "        hours, minutes, seconds = current_time(seconds)\n",
    "        if hours != 0:\n",
    "            if hours == 1:\n",
    "                sequence.append('1 hour')\n",
    "            else:\n",
    "                sequence.append(f'{hours} hours')\n",
    "        if minutes != 0:\n",
    "            if minutes == 1:\n",
    "                if hours != 0:\n",
    "                    sequence.append(', 1 minute')\n",
    "                else:\n",
    "                    sequence.append('1 minute')\n",
    "            else:\n",
    "                if hours != 0:\n",
    "                    sequence.append(f', {minutes} minutes')\n",
    "                else:\n",
    "                    sequence.append(f'{minutes} minutes')\n",
    "        if seconds != 0:\n",
    "            if seconds == 1:\n",
    "                if minutes != 0 or hours != 0:\n",
    "                    sequence.append(f' and 1 second')\n",
    "                else:\n",
    "                    sequence.append(f'1 second')\n",
    "            else:\n",
    "                if minutes != 0 or hours != 0:\n",
    "                    sequence.append(f' and {seconds} seconds')\n",
    "                else:\n",
    "                    sequence.append(f'{seconds} seconds')\n",
    "        sequence = \"\".join(sequence)\n",
    "    else:\n",
    "        sequence = 'now'\n",
    "    return sequence\n",
    "        \n",
    "def current_time(seconds):\n",
    "    hours = seconds // 3600\n",
    "    seconds = seconds - (hours*60*60)\n",
    "    minutes = seconds // 60\n",
    "    seconds = seconds - minutes*60\n",
    "    return hours, minutes, seconds"
   ]
  },
  {
   "cell_type": "code",
   "execution_count": 53,
   "id": "5798465f",
   "metadata": {},
   "outputs": [
    {
     "data": {
      "text/plain": [
       "'now'"
      ]
     },
     "execution_count": 53,
     "metadata": {},
     "output_type": "execute_result"
    }
   ],
   "source": [
    "format_duration(\"\")"
   ]
  },
  {
   "cell_type": "code",
   "execution_count": 54,
   "id": "f139a434",
   "metadata": {},
   "outputs": [],
   "source": [
    "times = [(\"year\", 365 * 24 * 60 * 60), \n",
    "         (\"day\", 24 * 60 * 60),\n",
    "         (\"hour\", 60 * 60),\n",
    "         (\"minute\", 60),\n",
    "         (\"second\", 1)]\n",
    "\n",
    "def format_duration(seconds):\n",
    "\n",
    "    if not seconds:\n",
    "        return \"now\"\n",
    "\n",
    "    chunks = []\n",
    "    for name, secs in times:\n",
    "        qty = seconds // secs\n",
    "        if qty:\n",
    "            if qty > 1:\n",
    "                name += \"s\"\n",
    "            chunks.append(str(qty) + \" \" + name)\n",
    "\n",
    "        seconds = seconds % secs\n",
    "\n",
    "    return ', '.join(chunks[:-1]) + ' and ' + chunks[-1] if len(chunks) > 1 else chunks[0]"
   ]
  },
  {
   "cell_type": "code",
   "execution_count": 56,
   "id": "b09e1876",
   "metadata": {},
   "outputs": [
    {
     "data": {
      "text/plain": [
       "'now'"
      ]
     },
     "execution_count": 56,
     "metadata": {},
     "output_type": "execute_result"
    }
   ],
   "source": [
    "format_duration(\"\")"
   ]
  }
 ],
 "metadata": {
  "kernelspec": {
   "display_name": "Python 3 (ipykernel)",
   "language": "python",
   "name": "python3"
  },
  "language_info": {
   "codemirror_mode": {
    "name": "ipython",
    "version": 3
   },
   "file_extension": ".py",
   "mimetype": "text/x-python",
   "name": "python",
   "nbconvert_exporter": "python",
   "pygments_lexer": "ipython3",
   "version": "3.10.6"
  }
 },
 "nbformat": 4,
 "nbformat_minor": 5
}
