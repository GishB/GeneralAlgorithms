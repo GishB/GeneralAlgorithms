{
 "cells": [
  {
   "cell_type": "markdown",
   "id": "43f69310",
   "metadata": {},
   "source": [
    "# Кузнечик"
   ]
  },
  {
   "cell_type": "markdown",
   "id": "8db724b5",
   "metadata": {},
   "source": [
    "\n",
    "\n",
    "У одного из студентов в комнате живёт кузнечик, который очень любит прыгать по клетчатой одномерной доске. Длина доски — N клеток. К его сожалению, он умеет прыгать только на 1, 2, …, k клеток вперёд.\n",
    "\n",
    "Однажды студентам стало интересно, сколькими способами кузнечик может допрыгать из первой клетки до последней. Помогите им ответить на этот вопрос.\n"
   ]
  },
  {
   "cell_type": "markdown",
   "id": "b7276e9a",
   "metadata": {},
   "source": [
    "# Формат ввода:"
   ]
  },
  {
   "cell_type": "markdown",
   "id": "c42662d6",
   "metadata": {},
   "source": [
    "В первой и единственной строке входного файла записано два целых числа — N и k . "
   ]
  },
  {
   "cell_type": "markdown",
   "id": "30b70ca4",
   "metadata": {},
   "source": [
    "# Формат вывода:"
   ]
  },
  {
   "cell_type": "markdown",
   "id": "676b1a61",
   "metadata": {},
   "source": [
    "Выведите одно число — количество способов, которыми кузнечик может допрыгать из первой клетки до последней."
   ]
  },
  {
   "cell_type": "markdown",
   "id": "5c0c1c26",
   "metadata": {},
   "source": [
    "# Решение:"
   ]
  },
  {
   "cell_type": "code",
   "execution_count": 52,
   "id": "af6053e3",
   "metadata": {},
   "outputs": [
    {
     "name": "stdout",
     "output_type": "stream",
     "text": [
      "8 4\n"
     ]
    }
   ],
   "source": [
    "n, k = list(map(int, input().split()))"
   ]
  },
  {
   "cell_type": "code",
   "execution_count": 53,
   "id": "fa5bf3ee",
   "metadata": {},
   "outputs": [
    {
     "name": "stdout",
     "output_type": "stream",
     "text": [
      "56\n"
     ]
    }
   ],
   "source": [
    "dp = [1]*n\n",
    "for i in range(0,n):\n",
    "    if i >= k:\n",
    "        value = sum(dp[i-k:i])\n",
    "        dp[i] = value\n",
    "    elif i >= 2:\n",
    "        dp[i] = 2*dp[i-1]\n",
    "print(dp[-1])"
   ]
  }
 ],
 "metadata": {
  "kernelspec": {
   "display_name": "Python 3 (ipykernel)",
   "language": "python",
   "name": "python3"
  },
  "language_info": {
   "codemirror_mode": {
    "name": "ipython",
    "version": 3
   },
   "file_extension": ".py",
   "mimetype": "text/x-python",
   "name": "python",
   "nbconvert_exporter": "python",
   "pygments_lexer": "ipython3",
   "version": "3.10.6"
  }
 },
 "nbformat": 4,
 "nbformat_minor": 5
}
