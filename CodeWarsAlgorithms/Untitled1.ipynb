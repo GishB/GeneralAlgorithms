{
 "cells": [
  {
   "cell_type": "code",
   "execution_count": 156,
   "id": "d6016974",
   "metadata": {},
   "outputs": [
    {
     "name": "stdout",
     "output_type": "stream",
     "text": [
      "3 2\n"
     ]
    }
   ],
   "source": [
    "n, m = list(map(int, input().split()))"
   ]
  },
  {
   "cell_type": "code",
   "execution_count": 157,
   "id": "3331d9fc",
   "metadata": {},
   "outputs": [
    {
     "name": "stdout",
     "output_type": "stream",
     "text": [
      "1 2\n",
      "2 3\n"
     ]
    }
   ],
   "source": [
    "counter = 0\n",
    "used = []\n",
    "while True:\n",
    "    used.append(list(map(int, input().split())))\n",
    "    counter+=1\n",
    "    if counter >= m:\n",
    "        break"
   ]
  },
  {
   "cell_type": "code",
   "execution_count": 158,
   "id": "dd756cd2",
   "metadata": {},
   "outputs": [],
   "source": [
    "graph = [[0 for g in range(max(m,n)+1)] for i in range(max(m, n)+1)]"
   ]
  },
  {
   "cell_type": "code",
   "execution_count": 159,
   "id": "a43c5ebf",
   "metadata": {},
   "outputs": [
    {
     "data": {
      "text/plain": [
       "[[0, 0, 0, 0], [0, 0, 0, 0], [0, 0, 0, 0], [0, 0, 0, 0]]"
      ]
     },
     "execution_count": 159,
     "metadata": {},
     "output_type": "execute_result"
    }
   ],
   "source": [
    "graph"
   ]
  },
  {
   "cell_type": "code",
   "execution_count": 160,
   "id": "73073172",
   "metadata": {},
   "outputs": [
    {
     "data": {
      "text/plain": [
       "[[1, 2], [2, 3]]"
      ]
     },
     "execution_count": 160,
     "metadata": {},
     "output_type": "execute_result"
    }
   ],
   "source": [
    "used"
   ]
  },
  {
   "cell_type": "code",
   "execution_count": 161,
   "id": "868ab371",
   "metadata": {},
   "outputs": [],
   "source": [
    "#. Читаем список ребер графа, строим матрицу смежности.\n",
    "\n",
    "for i in range(m):\n",
    "    a, b = used[i]\n",
    "    value = 1\n",
    "    graph[a][b] = value\n",
    "    graph[b][a] = value"
   ]
  },
  {
   "cell_type": "code",
   "execution_count": 162,
   "id": "955748ec",
   "metadata": {},
   "outputs": [
    {
     "data": {
      "text/plain": [
       "[[0, 0, 0, 0], [0, 0, 1, 0], [0, 1, 0, 1], [0, 0, 1, 0]]"
      ]
     },
     "execution_count": 162,
     "metadata": {},
     "output_type": "execute_result"
    }
   ],
   "source": [
    "graph"
   ]
  },
  {
   "cell_type": "code",
   "execution_count": null,
   "id": "ba24c880",
   "metadata": {},
   "outputs": [],
   "source": [
    "names = []\n",
    "for group in used:\n",
    "    names.extend(group)\n",
    "names = list(set(names))"
   ]
  },
  {
   "cell_type": "code",
   "execution_count": 168,
   "id": "4c1e5e5e",
   "metadata": {},
   "outputs": [
    {
     "data": {
      "text/plain": [
       "[0, 0, 1, 0]"
      ]
     },
     "execution_count": 168,
     "metadata": {},
     "output_type": "execute_result"
    }
   ],
   "source": [
    "graph[1]"
   ]
  },
  {
   "cell_type": "code",
   "execution_count": 186,
   "id": "f5bbe30f",
   "metadata": {},
   "outputs": [],
   "source": [
    "def dfs(graph, visited, now):\n",
    "    visited[now] = True\n",
    "    for neig in graph[now]:\n",
    "        if not visited[now]:\n",
    "            dfs(graph, visited, neig)\n",
    "dfs(graph, graph[3], 3)"
   ]
  },
  {
   "cell_type": "code",
   "execution_count": 187,
   "id": "767f8ba6",
   "metadata": {},
   "outputs": [
    {
     "data": {
      "text/plain": [
       "[[0, 0, 0, 0],\n",
       " [0, True, True, True],\n",
       " [0, True, True, True],\n",
       " [0, True, True, True]]"
      ]
     },
     "execution_count": 187,
     "metadata": {},
     "output_type": "execute_result"
    }
   ],
   "source": [
    "graph"
   ]
  },
  {
   "cell_type": "code",
   "execution_count": 150,
   "id": "f370b43d",
   "metadata": {},
   "outputs": [
    {
     "name": "stdout",
     "output_type": "stream",
     "text": [
      "YES\n"
     ]
    }
   ],
   "source": [
    "#Запускаем поиск в глубину, корень красим цветом 1. Граф может быть несвязный. Error = 0 означает что граф двухцветный, Error = 1 означает что нет.\n",
    "error = 0\n",
    "for i in range(n):\n",
    "    if i in names:\n",
    "        dfs(graph, used[i], 1)\n",
    "    else:\n",
    "        error = 1\n",
    "        break\n",
    "if error == 0:\n",
    "    print('NO')\n",
    "else:\n",
    "    print('YES')"
   ]
  }
 ],
 "metadata": {
  "kernelspec": {
   "display_name": "Python 3 (ipykernel)",
   "language": "python",
   "name": "python3"
  },
  "language_info": {
   "codemirror_mode": {
    "name": "ipython",
    "version": 3
   },
   "file_extension": ".py",
   "mimetype": "text/x-python",
   "name": "python",
   "nbconvert_exporter": "python",
   "pygments_lexer": "ipython3",
   "version": "3.10.6"
  }
 },
 "nbformat": 4,
 "nbformat_minor": 5
}
