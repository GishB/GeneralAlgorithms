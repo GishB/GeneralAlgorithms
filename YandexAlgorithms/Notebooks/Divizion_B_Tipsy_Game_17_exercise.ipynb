{
 "cells": [
  {
   "cell_type": "markdown",
   "id": "b87fff46",
   "metadata": {},
   "source": [
    "# 17. Игра в пьяницу"
   ]
  },
  {
   "cell_type": "markdown",
   "id": "74878ec3",
   "metadata": {},
   "source": [
    "В игре в пьяницу карточная колода раздается поровну двум игрокам. Далее они вскрывают по одной верхней карте, и тот, чья карта старше, забирает себе обе вскрытые карты, которые кладутся под низ его колоды. Тот, кто остается без карт – проигрывает. Для простоты будем считать, что все карты различны по номиналу, а также, что самая младшая карта побеждает самую старшую карту (\"шестерка берет туза\"). Игрок, который забирает себе карты, сначала кладет под низ своей колоды карту первого игрока, затем карту второго игрока (то есть карта второго игрока оказывается внизу колоды). Напишите программу, которая моделирует игру в пьяницу и определяет, кто выигрывает. В игре участвует 10 карт, имеющих значения от 0 до 9, большая карта побеждает меньшую, карта со значением 0 побеждает карту 9.\n",
    "\n"
   ]
  },
  {
   "cell_type": "markdown",
   "id": "8de8c431",
   "metadata": {},
   "source": [
    "# Формат ввода:\n",
    "\n",
    "Программа получает на вход две строки: первая строка содержит 5 чисел, разделенных пробелами — номера карт первого игрока, вторая – аналогично 5 карт второго игрока. Карты перечислены сверху вниз, то есть каждая строка начинается с той карты, которая будет открыта первой."
   ]
  },
  {
   "cell_type": "markdown",
   "id": "6d881cd7",
   "metadata": {},
   "source": [
    "# Формат вывода:\n",
    "\n",
    "Программа должна определить, кто выигрывает при данной раздаче, и вывести слово first или second, после чего вывести количество ходов, сделанных до выигрыша. Если на протяжении 106 ходов игра не заканчивается, программа должна вывести слово botva."
   ]
  },
  {
   "cell_type": "markdown",
   "id": "44350caf",
   "metadata": {},
   "source": [
    "# Пример:\n",
    "\n",
    "Ввод:\n",
    "    \n",
    "    1 3 5 7 9\n",
    "    \n",
    "    2 4 6 8 0\n",
    "    \n",
    "Вывод:\n",
    "\n",
    "    second 5"
   ]
  },
  {
   "cell_type": "markdown",
   "id": "9911c354",
   "metadata": {},
   "source": [
    "# Решение:"
   ]
  },
  {
   "cell_type": "code",
   "execution_count": 5,
   "id": "df7a933d",
   "metadata": {},
   "outputs": [
    {
     "name": "stdout",
     "output_type": "stream",
     "text": [
      "1 7 3 9 4\n",
      "5 8 0 26\n"
     ]
    }
   ],
   "source": [
    "first, second = input().split(), input().split()\n",
    "n = 0"
   ]
  },
  {
   "cell_type": "code",
   "execution_count": 6,
   "id": "233789d0",
   "metadata": {},
   "outputs": [
    {
     "name": "stdout",
     "output_type": "stream",
     "text": [
      "first 20\n"
     ]
    }
   ],
   "source": [
    "while first and second:\n",
    "    n+=1\n",
    "    a, b = first.pop(0), second.pop(0)\n",
    "    if a > b and (b, a) != ('0', '9') or (a, b) == ('0', '9'):\n",
    "        first += [a, b]\n",
    "    else:\n",
    "        second += [a, b]\n",
    "    if n >= 1000000:\n",
    "        print('botva')\n",
    "        break\n",
    "else:\n",
    "    print('first' if first else 'second', n)"
   ]
  }
 ],
 "metadata": {
  "kernelspec": {
   "display_name": "Python 3 (ipykernel)",
   "language": "python",
   "name": "python3"
  },
  "language_info": {
   "codemirror_mode": {
    "name": "ipython",
    "version": 3
   },
   "file_extension": ".py",
   "mimetype": "text/x-python",
   "name": "python",
   "nbconvert_exporter": "python",
   "pygments_lexer": "ipython3",
   "version": "3.9.13"
  }
 },
 "nbformat": 4,
 "nbformat_minor": 5
}
