{
 "cells": [
  {
   "cell_type": "markdown",
   "id": "d4936006",
   "metadata": {},
   "source": [
    "import java.util.ArrayDeque;\n",
    "import java.util.Scanner;\n",
    "\n",
    "public class E {\n",
    "    static int inf = 1000000;\n",
    "    static int dp[][];\n",
    "    static int a[];\n",
    "\n",
    "\n",
    "    static int DP(int i, int j) {\n",
    "        if (j > i) return inf;\n",
    "        else {\n",
    "            int res;\n",
    "            int cost = a[i];\n",
    "            if (j <= 0) {\n",
    "                if (i >= 1) {\n",
    "                    if (cost <= 100) {\n",
    "                        int dif = Math.min(DP(i - 1, j + 1), DP(i - 1, j) + cost);\n",
    "                        res = dif;\n",
    "                    } else {\n",
    "                        return DP(i - 1, j + 1);\n",
    "                    }\n",
    "                } else return 0;\n",
    "            } else {\n",
    "                if (dp[i][j] != -1) return dp[i][j];\n",
    "                if (cost > 100) {\n",
    "                    int dif = Math.min(DP(i - 1, j + 1), DP(i - 1, j - 1) + cost);\n",
    "                    res = dif;\n",
    "                } else {\n",
    "                    int dif = Math.min(DP(i - 1, j + 1), DP(i - 1, j) + cost);\n",
    "                    res = dif;\n",
    "                }\n",
    "            }\n",
    "            dp[i][j] = res;\n",
    "            return res;\n",
    "        }\n",
    "    }\n",
    "\n",
    "\n",
    "    static void GOODOLDDAYS(ArrayDeque<Integer> used, int i, int j) {\n",
    "        if (j < i) {\n",
    "            int cost = a[i];\n",
    "            if (j <= 0) {\n",
    "                if (i >= 1) {\n",
    "                    if (cost > 100) {\n",
    "                        used.add(i);\n",
    "                        GOODOLDDAYS(used, i - 1, j + 1);\n",
    "                    } else {\n",
    "                        boolean addi = (DP(i, j) == DP(i - 1, j + 1));\n",
    "                        if (addi) {\n",
    "                            used.add(i);\n",
    "                            GOODOLDDAYS(used, i - 1, j + 1);\n",
    "                        } else GOODOLDDAYS(used, i - 1, j);\n",
    "                    }\n",
    "                }\n",
    "            } else {\n",
    "                if (cost <= 100) {\n",
    "                    boolean addi = (DP(i - 1, j + 1) == DP(i, j));\n",
    "                    if (addi) {\n",
    "                        used.add(i);\n",
    "                        GOODOLDDAYS(used, i - 1, j + 1);\n",
    "                    } else {\n",
    "                        GOODOLDDAYS(used, i - 1, j);\n",
    "                    }\n",
    "                } else {\n",
    "                    boolean addi = (DP(i - 1, j + 1) == DP(i, j));\n",
    "                    if (addi) {\n",
    "                        used.add(i);\n",
    "                        GOODOLDDAYS(used, i - 1, j + 1);\n",
    "                    } else {\n",
    "                        GOODOLDDAYS(used, i - 1, j - 1);\n",
    "                    }\n",
    "                }\n",
    "            }\n",
    "        }\n",
    "    }\n",
    "\n",
    "\n",
    "    public static void main(String[] args) {\n",
    "        Scanner scanner = new Scanner(System.in);\n",
    "\n",
    "        int n = scanner.nextInt();\n",
    "        int k1 = 0;\n",
    "        int k2 = 0;\n",
    "        a = new int[n + 1];\n",
    "        for (int i = 1; i <= n; i++) a[i] = scanner.nextInt();\n",
    "        dp = new int[n + 1][n + 2];\n",
    "        for (int i = 0; i <= n; i++) {\n",
    "            for (int j = 0; j <= n + 1; j++)\n",
    "                dp[i][j] = -1;\n",
    "        }\n",
    "\n",
    "        int ans = inf;\n",
    "\n",
    "        for (int i = 0; i <= n; i++) {\n",
    "            if (ans >= DP(n, i)) {\n",
    "                ans = DP(n, i);\n",
    "                k1 = i;\n",
    "            }\n",
    "        }\n",
    "\n",
    "        System.out.println(ans);\n",
    "\n",
    "        ArrayDeque<Integer> used = new ArrayDeque<>();\n",
    "\n",
    "        GOODOLDDAYS(used, n, k1);\n",
    "\n",
    "        k2 = used.size();\n",
    "\n",
    "        System.out.println(k1 + \" \" + k2);\n",
    "\n",
    "        while (!used.isEmpty()) {\n",
    "            System.out.print(used.removeLast() + \"\\n\");\n",
    "        }\n",
    "    }\n",
    "}"
   ]
  },
  {
   "cell_type": "markdown",
   "id": "8031a81e",
   "metadata": {},
   "source": [
    "# 29. Кафе"
   ]
  },
  {
   "cell_type": "markdown",
   "id": "e5fff3a3",
   "metadata": {},
   "source": [
    "\n",
    "\n",
    "Около Петиного университета недавно открылось новое кафе, в котором действует следующая система скидок: при каждой покупке более чем на 100 рублей покупатель получает купон, дающий право на один бесплатный обед (при покупке на сумму 100 рублей и меньше такой купон покупатель не получает).\n",
    "\n",
    "Однажды Пете на глаза попался прейскурант на ближайшие N дней. Внимательно его изучив, он решил, что будет обедать в этом кафе все N дней, причем каждый день он будет покупать в кафе ровно один обед. Однако стипендия у Пети небольшая, и поэтому он хочет по максимуму использовать предоставляемую систему скидок так, чтобы его суммарные затраты были минимальны. Требуется найти минимально возможную суммарную стоимость обедов и номера дней, в которые Пете следует воспользоваться купонами.\n"
   ]
  },
  {
   "cell_type": "markdown",
   "id": "1139abea",
   "metadata": {},
   "source": [
    "# Формат ввода:\n",
    "\n",
    "В первой строке входного файла записано целое число N (0 ≤ N ≤ 100). В каждой из последующих N строк записано одно целое число, обозначающее стоимость обеда в рублях на соответствующий день. Стоимость — неотрицательное целое число, не превосходящее 300. "
   ]
  },
  {
   "cell_type": "markdown",
   "id": "8f153c52",
   "metadata": {},
   "source": [
    "# Формат вывода:\n",
    "\n",
    "\n",
    "\n",
    "В первой строке выдайте минимальную возможную суммарную стоимость обедов. Во второй строке выдайте два числа K1 и K2 — количество купонов, которые останутся неиспользованными у Пети после этих N дней и количество использованных им купонов соответственно.\n",
    "\n",
    "В последующих K2 строках выдайте в возрастающем порядке номера дней, когда Пете следует воспользоваться купонами. Если существует несколько решений с минимальной суммарной стоимостью, то выдайте то из них, в котором значение K1 максимально (на случай, если Петя когда-нибудь ещё решит заглянуть в это кафе). Если таких решений несколько, выведите любое из них.\n"
   ]
  },
  {
   "cell_type": "markdown",
   "id": "2d5162be",
   "metadata": {},
   "source": [
    "# Пример:\n",
    "\n",
    "Ввод:\n",
    "    \n",
    "    5\n",
    "    35\n",
    "    40\n",
    "    101\n",
    "    59\n",
    "    63\n",
    "    \n",
    "Вывод:\n",
    "    \n",
    "    235\n",
    "    0 1\n",
    "    5"
   ]
  },
  {
   "cell_type": "markdown",
   "id": "27498ebc",
   "metadata": {},
   "source": [
    "# Решение:"
   ]
  },
  {
   "cell_type": "code",
   "execution_count": 1,
   "id": "b7935c40",
   "metadata": {},
   "outputs": [
    {
     "name": "stdout",
     "output_type": "stream",
     "text": [
      "5\n"
     ]
    }
   ],
   "source": [
    "n = int(input())"
   ]
  },
  {
   "cell_type": "code",
   "execution_count": 3,
   "id": "071ff9e2",
   "metadata": {},
   "outputs": [
    {
     "name": "stdout",
     "output_type": "stream",
     "text": [
      "35\n",
      "40\n",
      "101\n",
      "59\n",
      "63\n"
     ]
    }
   ],
   "source": [
    "price_list = []\n",
    "counter = 0\n",
    "while True:\n",
    "    price_list.append(int(input()))\n",
    "    counter+=1\n",
    "    if counter >= n:\n",
    "        break"
   ]
  },
  {
   "cell_type": "code",
   "execution_count": 5,
   "id": "71b7df2c",
   "metadata": {},
   "outputs": [],
   "source": [
    "inf = 10000000\n",
    "dp = [[0 for k in range(n+1)] for g in range(n+1)]"
   ]
  },
  {
   "cell_type": "code",
   "execution_count": null,
   "id": "1afdca7f",
   "metadata": {},
   "outputs": [],
   "source": []
  }
 ],
 "metadata": {
  "kernelspec": {
   "display_name": "Python 3 (ipykernel)",
   "language": "python",
   "name": "python3"
  },
  "language_info": {
   "codemirror_mode": {
    "name": "ipython",
    "version": 3
   },
   "file_extension": ".py",
   "mimetype": "text/x-python",
   "name": "python",
   "nbconvert_exporter": "python",
   "pygments_lexer": "ipython3",
   "version": "3.10.6"
  }
 },
 "nbformat": 4,
 "nbformat_minor": 5
}
