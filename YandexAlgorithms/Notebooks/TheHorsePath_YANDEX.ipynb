{
 "cells": [
  {
   "cell_type": "markdown",
   "id": "890ce057",
   "metadata": {},
   "source": [
    "# 28. Ход конём"
   ]
  },
  {
   "cell_type": "markdown",
   "id": "d6d30543",
   "metadata": {},
   "source": [
    "\n",
    "\n",
    "Дана прямоугольная доска N × M (N строк и M столбцов). В левом верхнем углу находится шахматный конь, которого необходимо переместить в правый нижний угол доски. В данной задаче конь может перемещаться на две клетки вниз и одну клетку вправо или на одну клетку вниз и две клетки вправо.\n",
    "\n",
    "Необходимо определить, сколько существует различных маршрутов, ведущих из левого верхнего в правый нижний угол. "
   ]
  },
  {
   "cell_type": "markdown",
   "id": "e19c384e",
   "metadata": {},
   "source": [
    "# Формат ввода:\n",
    "\n",
    "Входной файл содержит два натуральных числа N и M , . "
   ]
  },
  {
   "cell_type": "markdown",
   "id": "26116697",
   "metadata": {},
   "source": [
    "# Формат вывода:\n",
    "\n",
    "В выходной файл выведите единственное число — количество способов добраться конём до правого нижнего угла доски."
   ]
  },
  {
   "cell_type": "markdown",
   "id": "0389feff",
   "metadata": {},
   "source": [
    "# Пример:\n",
    "\n",
    "Ввод:\n",
    "    \n",
    "     3 2\n",
    "        \n",
    "Вывод:\n",
    "    \n",
    "    1"
   ]
  },
  {
   "cell_type": "markdown",
   "id": "a6726304",
   "metadata": {},
   "source": [
    "# Решение:"
   ]
  },
  {
   "cell_type": "code",
   "execution_count": 57,
   "id": "61767ac7",
   "metadata": {},
   "outputs": [
    {
     "name": "stdout",
     "output_type": "stream",
     "text": [
      "3 2\n",
      "1\n"
     ]
    }
   ],
   "source": [
    "n, m = list(map(int, input().split()))\n",
    "dp = [[0 for k in range(m+1)] for g in range(n+1)]\n",
    "dp[1][1] = 1\n",
    "for i in range(2, n+1):\n",
    "    for j in range(2, m+1):\n",
    "        dp[i][j] = dp[i-1][j-2] + dp[i-2][j-1]\n",
    "print(dp[n][m])"
   ]
  }
 ],
 "metadata": {
  "kernelspec": {
   "display_name": "Python 3 (ipykernel)",
   "language": "python",
   "name": "python3"
  },
  "language_info": {
   "codemirror_mode": {
    "name": "ipython",
    "version": 3
   },
   "file_extension": ".py",
   "mimetype": "text/x-python",
   "name": "python",
   "nbconvert_exporter": "python",
   "pygments_lexer": "ipython3",
   "version": "3.10.6"
  }
 },
 "nbformat": 4,
 "nbformat_minor": 5
}
