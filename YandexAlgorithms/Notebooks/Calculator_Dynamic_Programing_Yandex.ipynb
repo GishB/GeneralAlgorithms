{
 "cells": [
  {
   "cell_type": "code",
   "execution_count": 61,
   "id": "39935e88",
   "metadata": {},
   "outputs": [
    {
     "name": "stdout",
     "output_type": "stream",
     "text": [
      "1\n",
      "0\n",
      "1\n"
     ]
    }
   ],
   "source": [
    "num = int(input())\n",
    "\n",
    "if num > 2:\n",
    "    a = [0] * (num + 1)  # для каждого числа пока заполняем по 0 операций\n",
    "    a[1] = 0  # продублирую для наглядности чтобы получить 1 нужно 0 операций\n",
    "    for n in range(2, num + 1):  # для каждого числа из диапазона\n",
    "        minimal = a[n - 1] + 1  # смотрим сколько потребовалось операций для предыдущего и прибавляем\n",
    "        if n % 2 == 0:\n",
    "            minimal = min(minimal, a[n // 2] + 1)  # сравниваем сколько операций потребовалось для n//2+1\n",
    "        if n % 3 == 0:\n",
    "            minimal = min(minimal, a[n // 3] + 1)  # аналогично\n",
    "        a[n] = minimal  # заполняем вместо 0 количество операций\n",
    "\n",
    "    operations = []\n",
    "    i = num\n",
    "    while i > 1:\n",
    "        if a[i] == (a[i-1]+1):\n",
    "            operations.insert(0, 1)\n",
    "            i -= 1\n",
    "            continue\n",
    "        if i%2 == 0 and a[i] == a[i//2]+1:\n",
    "            operations.insert(0, 2)\n",
    "            i //= 2\n",
    "            continue\n",
    "        operations.insert(0, 3)\n",
    "        i //= 3\n",
    "\n",
    "    result_sum = []\n",
    "    for i in range(len(operations)):\n",
    "        if i == 0:\n",
    "            result_sum.append(operations[0])\n",
    "        else:\n",
    "            result_sum.append(result_sum[i-1]+operations[i])\n",
    "    if len(operations) > 0:\n",
    "        result_sum = [1] + result_sum\n",
    "\n",
    "    print(a[num])# минимальное количество операций для num\n",
    "    print(' '.join(list(map(str, result_sum))))\n",
    "elif num == 2:\n",
    "    print(1)\n",
    "    print('1 2')\n",
    "elif num == 1:\n",
    "    print(0)\n",
    "    print(1)"
   ]
  },
  {
   "cell_type": "code",
   "execution_count": null,
   "id": "a496fe0a",
   "metadata": {},
   "outputs": [],
   "source": []
  }
 ],
 "metadata": {
  "kernelspec": {
   "display_name": "Python 3 (ipykernel)",
   "language": "python",
   "name": "python3"
  },
  "language_info": {
   "codemirror_mode": {
    "name": "ipython",
    "version": 3
   },
   "file_extension": ".py",
   "mimetype": "text/x-python",
   "name": "python",
   "nbconvert_exporter": "python",
   "pygments_lexer": "ipython3",
   "version": "3.10.6"
  }
 },
 "nbformat": 4,
 "nbformat_minor": 5
}
