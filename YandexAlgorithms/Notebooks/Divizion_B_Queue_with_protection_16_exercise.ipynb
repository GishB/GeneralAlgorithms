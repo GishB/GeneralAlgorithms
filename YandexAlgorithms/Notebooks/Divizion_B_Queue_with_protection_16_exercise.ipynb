{
 "cells": [
  {
   "cell_type": "markdown",
   "id": "6d6449c9",
   "metadata": {},
   "source": [
    "# 16. Очередь с защитой от ошибок"
   ]
  },
  {
   "cell_type": "markdown",
   "id": "9911cecb",
   "metadata": {},
   "source": [
    "Научитесь пользоваться стандартной структурой данных queue для целых чисел. Напишите программу, содержащую описание очереди и моделирующую работу очереди, реализовав все указанные здесь методы. \n",
    "\n",
    "Программа считывает последовательность команд и в зависимости от команды выполняет ту или иную операцию. После выполнения каждой команды программа должна вывести одну строчку.\n",
    "\n",
    "Возможные команды для программы:\n",
    "\n",
    "push n\n",
    "Добавить в очередь число n (значение n задается после команды). Программа должна вывести ok.\n",
    "\n",
    "pop\n",
    "Удалить из очереди первый элемент. Программа должна вывести его значение.\n",
    "\n",
    "front\n",
    "Программа должна вывести значение первого элемента, не удаляя его из очереди.\n",
    "\n",
    "size\n",
    "Программа должна вывести количество элементов в очереди.\n",
    "\n",
    "clear\n",
    "Программа должна очистить очередь и вывести ok.\n",
    "\n",
    "exit\n",
    "Программа должна вывести bye и завершить работу.\n",
    "\n",
    "Перед исполнением операций front и pop программа должна проверять, содержится ли в очереди хотя бы один элемент. Если во входных данных встречается операция front или pop, и при этом очередь пуста, то программа должна вместо числового значения вывести строку error."
   ]
  },
  {
   "cell_type": "markdown",
   "id": "787bff34",
   "metadata": {},
   "source": [
    "# Формат ввода:\n",
    "\n",
    "    Вводятся команды управления очередью, по одной на строке"
   ]
  },
  {
   "cell_type": "markdown",
   "id": "d1ff2edc",
   "metadata": {},
   "source": [
    "# Формат вывода:\n",
    "\n",
    "    Требуется вывести протокол работы очереди, по одному сообщению на строке"
   ]
  },
  {
   "cell_type": "markdown",
   "id": "7d0f8c0f",
   "metadata": {},
   "source": [
    "# Пример:\n",
    "\n",
    "Ввод:\n",
    "\n",
    "    push 1\n",
    "\n",
    "    front\n",
    "\n",
    "    exit\n",
    "    \n",
    "Вывод:\n",
    "\n",
    "    ok\n",
    "    \n",
    "    1\n",
    "    \n",
    "    bye"
   ]
  },
  {
   "cell_type": "markdown",
   "id": "433eff36",
   "metadata": {},
   "source": [
    "# Решение: "
   ]
  },
  {
   "cell_type": "code",
   "execution_count": 7,
   "id": "03c5c3a3",
   "metadata": {},
   "outputs": [
    {
     "name": "stdout",
     "output_type": "stream",
     "text": [
      "push 3\n",
      "ok\n",
      "push 14\n",
      "ok\n",
      "size\n",
      "2\n",
      "clear\n",
      "ok\n",
      "push 1\n",
      "ok\n",
      "front\n",
      "1\n",
      "push 2\n",
      "ok\n",
      "front\n",
      "1\n",
      "pop\n",
      "2\n",
      "size\n",
      "1\n",
      "front\n",
      "1\n"
     ]
    },
    {
     "ename": "KeyboardInterrupt",
     "evalue": "Interrupted by user",
     "output_type": "error",
     "traceback": [
      "\u001b[0;31m---------------------------------------------------------------------------\u001b[0m",
      "\u001b[0;31mKeyboardInterrupt\u001b[0m                         Traceback (most recent call last)",
      "\u001b[0;32m/tmp/ipykernel_4678/2234301656.py\u001b[0m in \u001b[0;36m<module>\u001b[0;34m\u001b[0m\n\u001b[1;32m      2\u001b[0m \u001b[0mqueue\u001b[0m \u001b[0;34m=\u001b[0m \u001b[0;34m[\u001b[0m\u001b[0;34m]\u001b[0m\u001b[0;34m\u001b[0m\u001b[0;34m\u001b[0m\u001b[0m\n\u001b[1;32m      3\u001b[0m \u001b[0;32mwhile\u001b[0m \u001b[0mread\u001b[0m \u001b[0;34m!=\u001b[0m \u001b[0;34m'exit'\u001b[0m\u001b[0;34m:\u001b[0m\u001b[0;34m\u001b[0m\u001b[0;34m\u001b[0m\u001b[0m\n\u001b[0;32m----> 4\u001b[0;31m     \u001b[0mread\u001b[0m \u001b[0;34m=\u001b[0m \u001b[0minput\u001b[0m\u001b[0;34m(\u001b[0m\u001b[0;34m)\u001b[0m\u001b[0;34m.\u001b[0m\u001b[0msplit\u001b[0m\u001b[0;34m(\u001b[0m\u001b[0;34m' '\u001b[0m\u001b[0;34m)\u001b[0m\u001b[0;34m\u001b[0m\u001b[0;34m\u001b[0m\u001b[0m\n\u001b[0m\u001b[1;32m      5\u001b[0m     \u001b[0;32mif\u001b[0m \u001b[0mread\u001b[0m\u001b[0;34m[\u001b[0m\u001b[0;36m0\u001b[0m\u001b[0;34m]\u001b[0m \u001b[0;34m==\u001b[0m \u001b[0;34m'push'\u001b[0m\u001b[0;34m:\u001b[0m\u001b[0;34m\u001b[0m\u001b[0;34m\u001b[0m\u001b[0m\n\u001b[1;32m      6\u001b[0m         \u001b[0mqueue\u001b[0m\u001b[0;34m.\u001b[0m\u001b[0mappend\u001b[0m\u001b[0;34m(\u001b[0m\u001b[0mread\u001b[0m\u001b[0;34m[\u001b[0m\u001b[0;36m1\u001b[0m\u001b[0;34m]\u001b[0m\u001b[0;34m)\u001b[0m\u001b[0;34m\u001b[0m\u001b[0;34m\u001b[0m\u001b[0m\n",
      "\u001b[0;32m~/anaconda3/lib/python3.9/site-packages/ipykernel/kernelbase.py\u001b[0m in \u001b[0;36mraw_input\u001b[0;34m(self, prompt)\u001b[0m\n\u001b[1;32m   1175\u001b[0m                 \u001b[0;34m\"raw_input was called, but this frontend does not support input requests.\"\u001b[0m\u001b[0;34m\u001b[0m\u001b[0;34m\u001b[0m\u001b[0m\n\u001b[1;32m   1176\u001b[0m             )\n\u001b[0;32m-> 1177\u001b[0;31m         return self._input_request(\n\u001b[0m\u001b[1;32m   1178\u001b[0m             \u001b[0mstr\u001b[0m\u001b[0;34m(\u001b[0m\u001b[0mprompt\u001b[0m\u001b[0;34m)\u001b[0m\u001b[0;34m,\u001b[0m\u001b[0;34m\u001b[0m\u001b[0;34m\u001b[0m\u001b[0m\n\u001b[1;32m   1179\u001b[0m             \u001b[0mself\u001b[0m\u001b[0;34m.\u001b[0m\u001b[0m_parent_ident\u001b[0m\u001b[0;34m[\u001b[0m\u001b[0;34m\"shell\"\u001b[0m\u001b[0;34m]\u001b[0m\u001b[0;34m,\u001b[0m\u001b[0;34m\u001b[0m\u001b[0;34m\u001b[0m\u001b[0m\n",
      "\u001b[0;32m~/anaconda3/lib/python3.9/site-packages/ipykernel/kernelbase.py\u001b[0m in \u001b[0;36m_input_request\u001b[0;34m(self, prompt, ident, parent, password)\u001b[0m\n\u001b[1;32m   1217\u001b[0m             \u001b[0;32mexcept\u001b[0m \u001b[0mKeyboardInterrupt\u001b[0m\u001b[0;34m:\u001b[0m\u001b[0;34m\u001b[0m\u001b[0;34m\u001b[0m\u001b[0m\n\u001b[1;32m   1218\u001b[0m                 \u001b[0;31m# re-raise KeyboardInterrupt, to truncate traceback\u001b[0m\u001b[0;34m\u001b[0m\u001b[0;34m\u001b[0m\u001b[0m\n\u001b[0;32m-> 1219\u001b[0;31m                 \u001b[0;32mraise\u001b[0m \u001b[0mKeyboardInterrupt\u001b[0m\u001b[0;34m(\u001b[0m\u001b[0;34m\"Interrupted by user\"\u001b[0m\u001b[0;34m)\u001b[0m \u001b[0;32mfrom\u001b[0m \u001b[0;32mNone\u001b[0m\u001b[0;34m\u001b[0m\u001b[0;34m\u001b[0m\u001b[0m\n\u001b[0m\u001b[1;32m   1220\u001b[0m             \u001b[0;32mexcept\u001b[0m \u001b[0mException\u001b[0m\u001b[0;34m:\u001b[0m\u001b[0;34m\u001b[0m\u001b[0;34m\u001b[0m\u001b[0m\n\u001b[1;32m   1221\u001b[0m                 \u001b[0mself\u001b[0m\u001b[0;34m.\u001b[0m\u001b[0mlog\u001b[0m\u001b[0;34m.\u001b[0m\u001b[0mwarning\u001b[0m\u001b[0;34m(\u001b[0m\u001b[0;34m\"Invalid Message:\"\u001b[0m\u001b[0;34m,\u001b[0m \u001b[0mexc_info\u001b[0m\u001b[0;34m=\u001b[0m\u001b[0;32mTrue\u001b[0m\u001b[0;34m)\u001b[0m\u001b[0;34m\u001b[0m\u001b[0;34m\u001b[0m\u001b[0m\n",
      "\u001b[0;31mKeyboardInterrupt\u001b[0m: Interrupted by user"
     ]
    }
   ],
   "source": [
    "read = 'start'\n",
    "queue = []\n",
    "while read != 'exit':\n",
    "    read = input().split(' ')\n",
    "    if read[0] == 'push':\n",
    "        queue.append(read[1])\n",
    "        print('ok')\n",
    "    elif read[0] == 'pop':\n",
    "        if len(queue) != 0:\n",
    "            print(queue[0])\n",
    "            del queue[0]\n",
    "        else:\n",
    "            print('error')\n",
    "    elif read[0] == 'front':\n",
    "        if len(queue) != 0:\n",
    "            print(queue[0])\n",
    "        else:\n",
    "            print('error')\n",
    "    elif read[0] == 'size':\n",
    "        print(len(queue))\n",
    "    elif read[0] == 'clear':\n",
    "        queue = []\n",
    "        print('ok')\n",
    "    else:\n",
    "        print('bye')\n",
    "        break"
   ]
  }
 ],
 "metadata": {
  "kernelspec": {
   "display_name": "Python 3 (ipykernel)",
   "language": "python",
   "name": "python3"
  },
  "language_info": {
   "codemirror_mode": {
    "name": "ipython",
    "version": 3
   },
   "file_extension": ".py",
   "mimetype": "text/x-python",
   "name": "python",
   "nbconvert_exporter": "python",
   "pygments_lexer": "ipython3",
   "version": "3.9.13"
  }
 },
 "nbformat": 4,
 "nbformat_minor": 5
}
