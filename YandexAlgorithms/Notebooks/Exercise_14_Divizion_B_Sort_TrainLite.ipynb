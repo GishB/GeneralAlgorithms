{
 "cells": [
  {
   "cell_type": "markdown",
   "id": "644cf526",
   "metadata": {},
   "source": [
    "# 14. Сортировка вагонов lite"
   ]
  },
  {
   "cell_type": "markdown",
   "id": "5287fde3",
   "metadata": {},
   "source": [
    "# Пример:\n",
    "\n",
    "Ввод:\n",
    "\n",
    "3\n",
    "\n",
    "3 2 1\n",
    "\n",
    "Вывод:\n",
    "\n",
    "YES\n",
    "\n",
    "_____________________________________\n",
    "\n",
    "Ввод:\n",
    "\n",
    "4\n",
    "\n",
    "4 1 3 2\n",
    "\n",
    "Вывод:\n",
    "\n",
    "YES\n",
    "\n",
    "______________________________________\n",
    "\n",
    "Ввод:\n",
    "\n",
    "3\n",
    "\n",
    "2 3 1\n",
    "\n",
    "Вывод:\n",
    "\n",
    "NO"
   ]
  },
  {
   "cell_type": "markdown",
   "id": "b5e205b2",
   "metadata": {},
   "source": [
    "# Решение:\n"
   ]
  },
  {
   "cell_type": "code",
   "execution_count": 1,
   "id": "cf2c2f0d",
   "metadata": {},
   "outputs": [
    {
     "name": "stdout",
     "output_type": "stream",
     "text": [
      "10\n"
     ]
    }
   ],
   "source": [
    "number = int(input())"
   ]
  },
  {
   "cell_type": "code",
   "execution_count": 2,
   "id": "6cf1faca",
   "metadata": {},
   "outputs": [
    {
     "name": "stdout",
     "output_type": "stream",
     "text": [
      "7 2 4 5 3 2 5 1 5 4\n"
     ]
    }
   ],
   "source": [
    "values = list(map(int, input().split()))"
   ]
  },
  {
   "cell_type": "code",
   "execution_count": 17,
   "id": "a78dc61c",
   "metadata": {},
   "outputs": [],
   "source": [
    "stack = []\n",
    "answer = []\n",
    "\n",
    "for i in range(number):\n",
    "    if i != 0:\n",
    "        temp_ = stack[-1][0]\n",
    "        if temp_ < values[i]:\n",
    "            answer[0] = 1\n",
    "        else:\n",
    "            answer.append(None)\n",
    "            stack.append((values[i], i))\n",
    "    else:\n",
    "        answer.append(None)\n",
    "        stack.append((values[i], i))"
   ]
  },
  {
   "cell_type": "code",
   "execution_count": 18,
   "id": "797ac45b",
   "metadata": {},
   "outputs": [
    {
     "data": {
      "text/plain": [
       "[1, None, None, None]"
      ]
     },
     "execution_count": 18,
     "metadata": {},
     "output_type": "execute_result"
    }
   ],
   "source": [
    "answer"
   ]
  },
  {
   "cell_type": "code",
   "execution_count": 12,
   "id": "3a2f550c",
   "metadata": {},
   "outputs": [
    {
     "data": {
      "text/plain": [
       "[(7, 0), (5, 3), (3, 4)]"
      ]
     },
     "execution_count": 12,
     "metadata": {},
     "output_type": "execute_result"
    }
   ],
   "source": [
    "stack"
   ]
  },
  {
   "cell_type": "code",
   "execution_count": null,
   "id": "c8a52bfc",
   "metadata": {},
   "outputs": [],
   "source": []
  }
 ],
 "metadata": {
  "kernelspec": {
   "display_name": "Python 3 (ipykernel)",
   "language": "python",
   "name": "python3"
  },
  "language_info": {
   "codemirror_mode": {
    "name": "ipython",
    "version": 3
   },
   "file_extension": ".py",
   "mimetype": "text/x-python",
   "name": "python",
   "nbconvert_exporter": "python",
   "pygments_lexer": "ipython3",
   "version": "3.9.13"
  }
 },
 "nbformat": 4,
 "nbformat_minor": 5
}
