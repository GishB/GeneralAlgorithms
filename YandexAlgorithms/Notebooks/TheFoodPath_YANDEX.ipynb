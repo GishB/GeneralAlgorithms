{
 "cells": [
  {
   "cell_type": "markdown",
   "id": "cc06f069",
   "metadata": {},
   "source": [
    "# 26. Самый дешевый путь"
   ]
  },
  {
   "cell_type": "markdown",
   "id": "705bf7af",
   "metadata": {},
   "source": [
    "В каждой клетке прямоугольной таблицы N×M записано некоторое число. Изначально игрок находится в левой верхней клетке. За один ход ему разрешается перемещаться в соседнюю клетку либо вправо, либо вниз (влево и вверх перемещаться запрещено). При проходе через клетку с игрока берут столько килограммов еды, какое число записано в этой клетке (еду берут также за первую и последнюю клетки его пути).\n",
    "\n",
    "Требуется найти минимальный вес еды в килограммах, отдав которую игрок может попасть в правый нижний угол. "
   ]
  },
  {
   "cell_type": "markdown",
   "id": "8ee92133",
   "metadata": {},
   "source": [
    "# Формат ввода\n",
    "\n",
    "Вводятся два числа N и M — размеры таблицы (1≤N≤20, 1≤M≤20). Затем идет N строк по M чисел в каждой — размеры штрафов в килограммах за прохождение через соответствующие клетки (числа от 0 до 100). "
   ]
  },
  {
   "cell_type": "markdown",
   "id": "5e05e8cf",
   "metadata": {},
   "source": [
    "# Формат вывода\n",
    "\n",
    "Выведите минимальный вес еды в килограммах, отдав которую можно попасть в правый нижний угол. "
   ]
  },
  {
   "cell_type": "markdown",
   "id": "af702c06",
   "metadata": {},
   "source": [
    "# Пример: "
   ]
  },
  {
   "cell_type": "markdown",
   "id": "2e934eb7",
   "metadata": {},
   "source": [
    "Ввод:\n",
    "\n",
    "    5 5\n",
    "    1 1 1 1 1\n",
    "    3 100 100 100 100\n",
    "    1 1 1 1 1\n",
    "    2 2 2 2 1\n",
    "    1 1 1 1 1"
   ]
  },
  {
   "cell_type": "markdown",
   "id": "39b0cc4e",
   "metadata": {},
   "source": [
    "Вывод:\n",
    "    \n",
    "    11"
   ]
  },
  {
   "cell_type": "markdown",
   "id": "4c3aa433",
   "metadata": {},
   "source": [
    "# Решение"
   ]
  },
  {
   "cell_type": "code",
   "execution_count": 6,
   "id": "2de7211f",
   "metadata": {},
   "outputs": [
    {
     "name": "stdout",
     "output_type": "stream",
     "text": [
      "5 5\n",
      "1 1 1 1 1\n",
      "3 100 100 100 100\n",
      "1 1 1 1 1\n",
      "2 2 2 2 1\n",
      "1 1 1 1 1\n"
     ]
    }
   ],
   "source": [
    "n,m = map(int, input().split())\n",
    "arr = [[] for i in range(n)]\n",
    " \n",
    "for i in range(n): arr[i] = list(map(int, input().split()))"
   ]
  },
  {
   "cell_type": "code",
   "execution_count": 7,
   "id": "9e2a13cd",
   "metadata": {},
   "outputs": [
    {
     "name": "stdout",
     "output_type": "stream",
     "text": [
      "11\n"
     ]
    }
   ],
   "source": [
    "for i in range(n):\n",
    "    for j in range(m):\n",
    "        if(i-1>-1 and j-1>-1): arr[i][j] += min(arr[i-1][j],arr[i][j-1])\n",
    "        elif(i-1>-1): arr[i][j] += arr[i-1][j]\n",
    "        elif(j-1>-1): arr[i][j] += arr[i][j-1]\n",
    " \n",
    "print(arr[n-1][m-1])"
   ]
  }
 ],
 "metadata": {
  "kernelspec": {
   "display_name": "Python 3 (ipykernel)",
   "language": "python",
   "name": "python3"
  },
  "language_info": {
   "codemirror_mode": {
    "name": "ipython",
    "version": 3
   },
   "file_extension": ".py",
   "mimetype": "text/x-python",
   "name": "python",
   "nbconvert_exporter": "python",
   "pygments_lexer": "ipython3",
   "version": "3.10.6"
  }
 },
 "nbformat": 4,
 "nbformat_minor": 5
}
