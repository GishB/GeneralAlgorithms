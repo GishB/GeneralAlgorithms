{
 "cells": [
  {
   "cell_type": "markdown",
   "id": "1a205999",
   "metadata": {},
   "source": [
    "# C. Разделите их все\n",
    "https://contest.yandex.ru/contest/19811/problems/C/"
   ]
  },
  {
   "cell_type": "markdown",
   "id": "1418f4a5",
   "metadata": {},
   "source": [
    "Ограничение времени\t1 секунда\n",
    "\n",
    "Ограничение памяти\t512Mb\n",
    "\n",
    "Ввод\tстандартный ввод или input.txt\n",
    "\n",
    "Вывод\tстандартный вывод или output.txt"
   ]
  },
  {
   "cell_type": "markdown",
   "id": "b92a14b4",
   "metadata": {},
   "source": [
    "## Решение, проходящее все тесты, будет оценено в 3 балла."
   ]
  },
  {
   "cell_type": "markdown",
   "id": "733ff879",
   "metadata": {},
   "source": [
    "После работы Оля и Толя решили вместе сходить в тир. После прохождения вводного инструктажа и получения оружия они оказались на позициях для стрельбы, а напротив них находятся \n",
    "n\n",
    " мишеней. Все мишени можно считать фигурами, нанесёнными на бесконечную плоскость, при этом каждая мишень является кругом или прямоугольником, мишени могут накладываться и пересекаться произвольным образом.\n",
    "Перед тем как начать стрельбу, Оля и Толя хотят убедиться, что они смогут однозначно идентифицировать результаты своих выстрелов. Для этого они договорились провести прямую, которая поделит плоскость с мишенями на две части. Однако, чтобы никому не было обидно, они хотят провести прямую таким образом, чтобы каждая мишень была поделена ровно пополам, то есть для каждого круга и каждого прямоугольника должно быть верно, что прямая делит его на две фигуры равной площади.\n",
    "Когда Оля и Толя наконец закончили прорабатывать все условия разделения мишеней на две части, они начали сомневаться, что провести такую прямую вообще возможно, и просят вас ответить на этот вопрос."
   ]
  },
  {
   "cell_type": "markdown",
   "id": "e8046a95",
   "metadata": {},
   "source": [
    "## Формат ввода"
   ]
  },
  {
   "cell_type": "markdown",
   "id": "356bae4a",
   "metadata": {},
   "source": [
    "В первой строке входных данных записано целое число \n",
    "n\n",
    " (\n",
    "1\n",
    "≤\n",
    "n\n",
    "≤\n",
    "1\n",
    "0\n",
    "0\n",
    "0\n",
    "0\n",
    "0\n",
    ") — количество мишеней. Каждая из последующих \n",
    "n\n",
    " строк содержит целое число \n",
    "t\n",
    "i\n",
    " (\n",
    "0\n",
    "≤\n",
    "t\n",
    "i\n",
    "≤\n",
    "1\n",
    "), обозначающее тип мишени. Если \n",
    "t\n",
    "i\n",
    "=\n",
    "0\n",
    ", то мишень является кругом и далее следуют три целых числа \n",
    "r\n",
    "i\n",
    ", \n",
    "x\n",
    "i\n",
    " и \n",
    "y\n",
    "i\n",
    ", определяющие радиус и координаты центра круга соответственно (\n",
    "1\n",
    "≤\n",
    "r\n",
    "i\n",
    "≤\n",
    "1\n",
    "0\n",
    "0\n",
    "0\n",
    ", \n",
    "−\n",
    "1\n",
    "0\n",
    "0\n",
    "0\n",
    "0\n",
    "≤\n",
    "x\n",
    "i\n",
    ",\n",
    "y\n",
    "i\n",
    "≤\n",
    "1\n",
    "0\n",
    "0\n",
    "0\n",
    "0\n",
    "). Если же \n",
    "t\n",
    "i\n",
    "=\n",
    "1\n",
    ", то мишень является прямоугольником, который затем определяют восемь целых чисел \n",
    "x\n",
    "1\n",
    ",\n",
    "i\n",
    ", \n",
    "y\n",
    "1\n",
    ",\n",
    "i\n",
    ", \n",
    "x\n",
    "2\n",
    ",\n",
    "i\n",
    ", \n",
    "y\n",
    "2\n",
    ",\n",
    "i\n",
    ", \n",
    "x\n",
    "3\n",
    ",\n",
    "i\n",
    ", \n",
    "y\n",
    "3\n",
    ",\n",
    "i\n",
    ", \n",
    "x\n",
    "4\n",
    ",\n",
    "i\n",
    ", \n",
    "y\n",
    "4\n",
    ",\n",
    "i\n",
    " — координаты всех четырёх вершин (\n",
    "−\n",
    "1\n",
    "0\n",
    "0\n",
    "0\n",
    "0\n",
    "≤\n",
    "x\n",
    "j\n",
    ",\n",
    "i\n",
    ",\n",
    "y\n",
    "j\n",
    ",\n",
    "i\n",
    "≤\n",
    "1\n",
    "0\n",
    "0\n",
    "0\n",
    "0\n",
    "), перечисленных в порядке обхода по часовой стрелке или против часовой стрелки. Гарантируется, что данные четыре вершины образуют прямоугольник ненулевой площади."
   ]
  },
  {
   "cell_type": "markdown",
   "id": "0b9a2230",
   "metadata": {},
   "source": [
    "## Формат вывода"
   ]
  },
  {
   "cell_type": "markdown",
   "id": "7c0ff975",
   "metadata": {},
   "source": [
    "Если существует прямая, которая поделит каждый из имеющихся кругов и прямоугольников на две части одинаковой площади, выведите “Yes”. В противном случае выведите “No”.\n"
   ]
  },
  {
   "cell_type": "markdown",
   "id": "d965732b",
   "metadata": {},
   "source": [
    "### Пример 1"
   ]
  },
  {
   "cell_type": "markdown",
   "id": "43811556",
   "metadata": {},
   "source": [
    "Ввод:\n",
    "\n",
    "3\n",
    "\n",
    "0 1 1 1\n",
    "\n",
    "0 2 2 2\n",
    "\n",
    "0 3 3 3\n",
    "    \n",
    "Вывод:\n",
    "\n",
    "Yes"
   ]
  },
  {
   "cell_type": "markdown",
   "id": "8d2293c4",
   "metadata": {},
   "source": [
    "### Пример 2"
   ]
  },
  {
   "cell_type": "markdown",
   "id": "1e40ef79",
   "metadata": {},
   "source": [
    "Ввод:\n",
    "\n",
    "1\n",
    "\n",
    "1 0 0 0 1 1 1 1 0\n",
    "\n",
    "Вывод:\n",
    "\n",
    "Yes"
   ]
  },
  {
   "cell_type": "markdown",
   "id": "6f5030a4",
   "metadata": {},
   "source": [
    "### Пример 3"
   ]
  },
  {
   "cell_type": "markdown",
   "id": "1a0d6172",
   "metadata": {},
   "source": [
    "Ввод:\n",
    "\n",
    "3\n",
    "\n",
    "1 0 0 0 1 1 1 1 0\n",
    "\n",
    "0 10 10 10\n",
    "\n",
    "0 1 2 3\n",
    "\n",
    "Вывод:\n",
    "\n",
    "No"
   ]
  },
  {
   "cell_type": "markdown",
   "id": "fe81affe",
   "metadata": {},
   "source": []
  },
  {
   "cell_type": "markdown",
   "id": "0f3276c9",
   "metadata": {},
   "source": [
    "# Решение"
   ]
  },
  {
   "cell_type": "code",
   "execution_count": 14,
   "id": "ef6c6d12",
   "metadata": {},
   "outputs": [
    {
     "name": "stdout",
     "output_type": "stream",
     "text": [
      "3\n",
      "1 0 0 0 1 1 1 1 0\n",
      "0 10 10 10\n",
      "0 1 2 3\n",
      "No\n"
     ]
    }
   ],
   "source": [
    "number_fig = int(input())\n",
    "fig_list = [list(map(int, input().split())) for i in range(number_fig)]\n",
    "\n",
    "middle_point_list = []\n",
    "for i in fig_list:\n",
    "    type_fig = i[0]\n",
    "    if type_fig == 0:\n",
    "        middle_point_list.append([i[2],i[3]])\n",
    "    else:\n",
    "        middle_point_list.append([i[1] + (i[1]+i[5])/2, (i[2]+i[6])/2])\n",
    "\n",
    "score = False #перепиши логику здесь - \n",
    "if len(middle_point_list) > 2:\n",
    "    x_0, y_0 = middle_point_list[0][0], middle_point_list[0][1]\n",
    "    coord_vector = [[i[0] - x_0, i[1] - y_0]for i in middle_point_list][1:]\n",
    "    base_x, base_y = coord_vector[0][0], coord_vector[0][1]\n",
    "    for i in range(1,len(coord_vector)):\n",
    "        alpha_1, alpha_2 = base_x/coord_vector[i][0], base_y/coord_vector[i][1]\n",
    "        if alpha_1 == alpha_2:\n",
    "            pass\n",
    "        else:\n",
    "            score = True\n",
    "            break\n",
    "if score:\n",
    "    print('No')\n",
    "else:\n",
    "    print('Yes')"
   ]
  }
 ],
 "metadata": {
  "kernelspec": {
   "display_name": "Python 3 (ipykernel)",
   "language": "python",
   "name": "python3"
  },
  "language_info": {
   "codemirror_mode": {
    "name": "ipython",
    "version": 3
   },
   "file_extension": ".py",
   "mimetype": "text/x-python",
   "name": "python",
   "nbconvert_exporter": "python",
   "pygments_lexer": "ipython3",
   "version": "3.9.7"
  }
 },
 "nbformat": 4,
 "nbformat_minor": 5
}
