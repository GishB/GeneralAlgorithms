{
 "cells": [
  {
   "cell_type": "markdown",
   "id": "b250107c",
   "metadata": {},
   "source": [
    "# Пример:\n",
    "\n",
    "Ввод:\n",
    "\n",
    "    push 3\n",
    "    \n",
    "    push 14\n",
    "    \n",
    "    size\n",
    "    \n",
    "    clear\n",
    "    \n",
    "    push 1\n",
    "    \n",
    "    back\n",
    "    \n",
    "    push 2\n",
    "    \n",
    "    back\n",
    "    \n",
    "    pop\n",
    "    \n",
    "    size\n",
    "    \n",
    "    pop\n",
    "    \n",
    "    size\n",
    "    \n",
    "    exit\n",
    "    \n",
    "Вывод:\n",
    "    \n",
    "    ok\n",
    "    \n",
    "    ok\n",
    "    \n",
    "    2\n",
    "    \n",
    "    ok\n",
    "    \n",
    "    ok\n",
    "    \n",
    "    1\n",
    "    \n",
    "    ok\n",
    "    \n",
    "    2\n",
    "    \n",
    "    2\n",
    "    \n",
    "    1\n",
    "    \n",
    "    1\n",
    "    \n",
    "    0\n",
    "    \n",
    "    bye"
   ]
  },
  {
   "cell_type": "code",
   "execution_count": 5,
   "id": "6ea90c97",
   "metadata": {},
   "outputs": [
    {
     "name": "stdout",
     "output_type": "stream",
     "text": [
      "push 2\n",
      "ok\n",
      "back\n",
      "2\n",
      "exit\n",
      "bye\n"
     ]
    }
   ],
   "source": [
    "start, stack = 0, []\n",
    "while start != 'exit':\n",
    "    command = input().split(' ')\n",
    "    start = command[0]\n",
    "    if start == 'push':\n",
    "        stack.append(command[-1])\n",
    "        print('ok')\n",
    "\n",
    "    elif start == 'pop':\n",
    "        if len(stack) == 0:\n",
    "            print('error')\n",
    "        else:\n",
    "            print(stack.pop())\n",
    "\n",
    "    elif start == 'back':\n",
    "        if len(start) == 0:\n",
    "            print('error')\n",
    "        else:\n",
    "            print(stack[-1])\n",
    "\n",
    "    elif start == 'size':\n",
    "        print(len(stack))\n",
    "\n",
    "    elif start == 'clear':\n",
    "        stack = []\n",
    "        print('ok')\n",
    "\n",
    "    else:\n",
    "        print('bye')\n",
    "        break"
   ]
  },
  {
   "cell_type": "code",
   "execution_count": 4,
   "id": "930d9802",
   "metadata": {},
   "outputs": [
    {
     "data": {
      "text/plain": [
       "[1]"
      ]
     },
     "execution_count": 4,
     "metadata": {},
     "output_type": "execute_result"
    }
   ],
   "source": [
    "stack"
   ]
  },
  {
   "cell_type": "code",
   "execution_count": null,
   "id": "ae30aecc",
   "metadata": {},
   "outputs": [],
   "source": [
    "push 3\n",
    "push 14\n",
    "size\n",
    "clear\n",
    "push 1\n",
    "back\n",
    "push 2\n",
    "back\n",
    "pop\n",
    "size\n",
    "pop\n",
    "size\n",
    "exit\n",
    "\n",
    "ok\n",
    "ok\n",
    "2\n",
    "ok\n",
    "ok\n",
    "1\n",
    "ok\n",
    "2\n",
    "2\n",
    "1\n",
    "1\n",
    "0\n",
    "bye"
   ]
  }
 ],
 "metadata": {
  "kernelspec": {
   "display_name": "Python 3 (ipykernel)",
   "language": "python",
   "name": "python3"
  },
  "language_info": {
   "codemirror_mode": {
    "name": "ipython",
    "version": 3
   },
   "file_extension": ".py",
   "mimetype": "text/x-python",
   "name": "python",
   "nbconvert_exporter": "python",
   "pygments_lexer": "ipython3",
   "version": "3.9.13"
  }
 },
 "nbformat": 4,
 "nbformat_minor": 5
}
