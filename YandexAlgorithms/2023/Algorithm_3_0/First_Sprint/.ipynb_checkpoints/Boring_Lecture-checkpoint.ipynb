{
 "cells": [
  {
   "cell_type": "markdown",
   "id": "b1b31e7f",
   "metadata": {},
   "source": [
    "# 10. Скучная лекция"
   ]
  },
  {
   "cell_type": "markdown",
   "id": "d429e765",
   "metadata": {},
   "source": [
    "Ограничение времени секунда\n",
    "\n",
    "Ограничение памяти 64Mb\n",
    "\n",
    "Ввод: стандартный ввод или input.txt\n",
    "\n",
    "Вывод: стандартный вывод или output.txt"
   ]
  },
  {
   "cell_type": "markdown",
   "id": "4c884ec3",
   "metadata": {},
   "source": [
    "# Описание"
   ]
  },
  {
   "cell_type": "markdown",
   "id": "306f1034",
   "metadata": {},
   "source": [
    "Лёша сидел на лекции. Ему было невероятно скучно. Голос лектора казался таким далеким и незаметным...\n",
    "\n",
    "Чтобы окончательно не уснуть, он взял листок и написал на нём свое любимое слово. Чуть ниже он повторил своё любимое слово, без первой буквы. Ещё ниже он снова написал своё любимое слово, но в этот раз без двух первых и последней буквы.\n",
    "\n",
    "Тут ему пришла в голову мысль — времени до конца лекции все равно ещё очень много, почему бы не продолжить выписывать всеми возможными способами это слово без какой-то части с начала и какой-то части с конца?\n",
    "\n",
    "После лекции Лёша рассказал Максу, как замечательно он скоротал время. Максу стало интересно посчитать, сколько букв каждого вида встречается у Лёши в листочке. Но к сожалению, сам листочек куда-то запропастился.\n",
    "\n",
    "Макс хорошо знает любимое слово Лёши, а ещё у него не так много свободного времени, как у его друга, так что помогите ему быстро восстановить, сколько раз Лёше пришлось выписать каждую букву."
   ]
  },
  {
   "cell_type": "markdown",
   "id": "ea096ea2",
   "metadata": {},
   "source": [
    "# Формат ввода:"
   ]
  },
  {
   "cell_type": "markdown",
   "id": "2e13f15f",
   "metadata": {},
   "source": [
    "На вход подаётся строка, состоящая из строчных латинских букв — любимое слово Лёши.\n",
    "\n",
    "Длина строки лежит в пределах от 5 до 100 000 символов."
   ]
  },
  {
   "cell_type": "markdown",
   "id": "da0ae9da",
   "metadata": {},
   "source": [
    "# Формат вывода:"
   ]
  },
  {
   "cell_type": "markdown",
   "id": "496687aa",
   "metadata": {},
   "source": [
    "Для каждой буквы на листочке Лёши, выведите её, а затем через двоеточие и пробел сколько раз она встретилась в выписанных Лёшей словах (см. формат вывода в примерах). Буквы должны следовать в алфавитном порядке. Буквы, не встречающиеся на листочке, выводить не нужно."
   ]
  },
  {
   "cell_type": "markdown",
   "id": "03f11b25",
   "metadata": {},
   "source": [
    "# Пример 1\n",
    "\n",
    "Ввод:\n",
    "\n",
    "    hello\n",
    "    \n",
    "Вывод:\n",
    "\n",
    "    e: 8\n",
    "    h: 5\n",
    "    l: 17\n",
    "    o: 5"
   ]
  },
  {
   "cell_type": "markdown",
   "id": "0666c1d8",
   "metadata": {},
   "source": [
    "# Решение"
   ]
  },
  {
   "cell_type": "code",
   "execution_count": 2,
   "id": "4c750eb7",
   "metadata": {},
   "outputs": [
    {
     "name": "stdout",
     "output_type": "stream",
     "text": [
      "hello\n"
     ]
    }
   ],
   "source": [
    "start = str(input())"
   ]
  },
  {
   "cell_type": "code",
   "execution_count": 9,
   "id": "c8685fb2",
   "metadata": {},
   "outputs": [],
   "source": [
    "list_pbs = [start[:i+1] for i in range(len(start))]"
   ]
  },
  {
   "cell_type": "code",
   "execution_count": 10,
   "id": "e48f6dd3",
   "metadata": {},
   "outputs": [
    {
     "data": {
      "text/plain": [
       "['h', 'he', 'hel', 'hell', 'hello']"
      ]
     },
     "execution_count": 10,
     "metadata": {},
     "output_type": "execute_result"
    }
   ],
   "source": [
    "list_pbs"
   ]
  }
 ],
 "metadata": {
  "kernelspec": {
   "display_name": "Python 3 (ipykernel)",
   "language": "python",
   "name": "python3"
  },
  "language_info": {
   "codemirror_mode": {
    "name": "ipython",
    "version": 3
   },
   "file_extension": ".py",
   "mimetype": "text/x-python",
   "name": "python",
   "nbconvert_exporter": "python",
   "pygments_lexer": "ipython3",
   "version": "3.9.13"
  }
 },
 "nbformat": 4,
 "nbformat_minor": 5
}
