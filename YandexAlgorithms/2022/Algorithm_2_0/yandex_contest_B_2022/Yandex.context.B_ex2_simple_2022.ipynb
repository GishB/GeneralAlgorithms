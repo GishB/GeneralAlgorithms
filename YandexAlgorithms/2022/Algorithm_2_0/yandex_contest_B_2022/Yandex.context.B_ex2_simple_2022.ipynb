{
 "cells": [
  {
   "cell_type": "markdown",
   "id": "cbb021e9",
   "metadata": {},
   "source": [
    "# B. Дома и магазины\n",
    "#https://contest.yandex.ru/contest/28738/problems/B/"
   ]
  },
  {
   "cell_type": "markdown",
   "id": "93ab89ab",
   "metadata": {},
   "source": [
    "##### Ограничение времени\t1 секунда\n",
    "##### Ограничение памяти\t64Mb\n",
    "##### Ввод\tстандартный ввод или input.txt\n",
    "##### Вывод\tстандартный вывод или output.txt"
   ]
  },
  {
   "cell_type": "markdown",
   "id": "51a08bf1",
   "metadata": {},
   "source": [
    "На Новом проспекте построили подряд 10 зданий. Каждое здание может быть либо жилым домом, либо магазином, либо офисным зданием.\n",
    "\n",
    "Но оказалось, что жителям некоторых домов на Новом проспекте слишком далеко приходится идти до ближайшего магазина. Для разработки плана развития общественного транспорта на Новом проспекте мэр города попросил вас выяснить, какое же наибольшее расстояние приходится преодолевать жителям Нового проспекта, чтобы дойти от своего дома до ближайшего магазина."
   ]
  },
  {
   "cell_type": "markdown",
   "id": "69faf5b5",
   "metadata": {},
   "source": [
    "## Формат ввода:"
   ]
  },
  {
   "cell_type": "markdown",
   "id": "96d8b859",
   "metadata": {},
   "source": [
    "Программа получает на вход десять чисел, разделенных пробелами. Каждое число задает тип здания на Новом проспекте: число 1 обозначает жилой дом, число 2 обозначает магазин, число 0 обозначает офисное здание. Гарантируется, что на Новом проспекте есть хотя бы один жилой дом и хотя бы один магазин."
   ]
  },
  {
   "cell_type": "markdown",
   "id": "eb1fb40d",
   "metadata": {},
   "source": [
    "# Формат вывода:"
   ]
  },
  {
   "cell_type": "markdown",
   "id": "88a3dbba",
   "metadata": {},
   "source": [
    "Выведите одно целое число: наибольшее расстояние от дома до ближайшего к нему магазина. Расстояние между двумя соседними домами считается равным 1 (то есть если два дома стоят рядом, то между ними расстояние 1, если между двумя домами есть еще один дом, то расстояние между ними равно 2 и т.д.)"
   ]
  },
  {
   "cell_type": "markdown",
   "id": "d477e886",
   "metadata": {},
   "source": [
    "# Пример:"
   ]
  },
  {
   "cell_type": "markdown",
   "id": "f2a19b62",
   "metadata": {},
   "source": [
    "input: 2 0 1 1 0 1 0 2 1 2"
   ]
  },
  {
   "cell_type": "markdown",
   "id": "e9bc8896",
   "metadata": {},
   "source": [
    "output: 3"
   ]
  },
  {
   "cell_type": "markdown",
   "id": "990a53ac",
   "metadata": {},
   "source": [
    "# Пример решения задачи"
   ]
  },
  {
   "cell_type": "code",
   "execution_count": 59,
   "id": "0802a57e",
   "metadata": {},
   "outputs": [
    {
     "name": "stdout",
     "output_type": "stream",
     "text": [
      "2 0 1 1 0 1 0 2 1 2\n",
      "3\n"
     ]
    }
   ],
   "source": [
    "number_list = input().split()\n",
    "index_1 = [int(i) for i,v in enumerate(number_list) if int(v) == 1]\n",
    "index_2 = [int(i) for i,v in enumerate(number_list) if int(v) == 2]\n",
    "distance_id_list = []\n",
    "for i in index_1:\n",
    "\ttemp_list = []\n",
    "\tfor g in index_2:\n",
    "\t\tdistance = abs(i-g)\n",
    "\t\ttemp_list.append(distance)\n",
    "\tdistance_id_list.append(temp_list)\n",
    "temp_id = 0\n",
    "for i in distance_id_list:\n",
    "    min_temp = min(i)\n",
    "    if min_temp > temp_id:\n",
    "        temp_id = min_temp\n",
    "print(temp_id)"
   ]
  }
 ],
 "metadata": {
  "kernelspec": {
   "display_name": "Python 3 (ipykernel)",
   "language": "python",
   "name": "python3"
  },
  "language_info": {
   "codemirror_mode": {
    "name": "ipython",
    "version": 3
   },
   "file_extension": ".py",
   "mimetype": "text/x-python",
   "name": "python",
   "nbconvert_exporter": "python",
   "pygments_lexer": "ipython3",
   "version": "3.9.7"
  }
 },
 "nbformat": 4,
 "nbformat_minor": 5
}
