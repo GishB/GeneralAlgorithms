{
 "cells": [
  {
   "cell_type": "markdown",
   "id": "7d857bcc",
   "metadata": {},
   "source": [
    "# B. Фактор палиндромности\n",
    "https://contest.yandex.ru/contest/19811/problems/B/"
   ]
  },
  {
   "cell_type": "markdown",
   "id": "1b2a102e",
   "metadata": {},
   "source": [
    "\n",
    "Ограничение времени\t1 секунда\n",
    "\n",
    "Ограничение памяти\t512Mb\n",
    "\n",
    "Ввод\tстандартный ввод или input.txt\n",
    "\n",
    "Вывод\tстандартный вывод или output.txt"
   ]
  },
  {
   "cell_type": "markdown",
   "id": "0b31f7f4",
   "metadata": {},
   "source": [
    "## Решение, проходящее все тесты, будет оценено в 3 балла."
   ]
  },
  {
   "cell_type": "markdown",
   "id": "6204a254",
   "metadata": {},
   "source": [
    "Аркадий — большой фанат использования машинного обучения в любой задаче. Он верит в безграничную силу волшебства этой популярной молодой науки. Именно поэтому Аркадий постоянно постоянно придумывает всё новые и новые факторы, которые можно вычислить для различных объектов.\n",
    "\n",
    "Напомним, палиндромом называется строка, которая одинаково читается от начала к концу и от конца к началу. Для каждой строки в своей базе данных Аркадий хочет найти самую короткую её подстроку, состоящую хотя бы из двух символов и являющуюся палиндромом. Если таких подстрок несколько, Аркадий хочет выбрать лексикографически минимальную."
   ]
  },
  {
   "cell_type": "markdown",
   "id": "be344883",
   "metadata": {},
   "source": [
    "# Формат ввода"
   ]
  },
  {
   "cell_type": "markdown",
   "id": "85106570",
   "metadata": {},
   "source": [
    "В единственной строке входных данных записана одна строка из базы Аркадия — непустая последовательность строчных букв английского алфавита. Длина строки составляет не менее \n",
    "2\n",
    " и не превосходит \n",
    "2\n",
    "0\n",
    "0\n",
    "0\n",
    "0\n",
    "0\n",
    " символов."
   ]
  },
  {
   "cell_type": "markdown",
   "id": "f62642fa",
   "metadata": {},
   "source": [
    "# Формат вывода"
   ]
  },
  {
   "cell_type": "markdown",
   "id": "f3dbeefe",
   "metadata": {},
   "source": [
    "Выведите минимальную по длине подстроку строки из входных данных, состоящую хотя бы из двух символов и являющуюся палиндромом. Если такой подстроки нет, то выведите \n",
    "−\n",
    "1\n",
    ". Напомним, что среди всех таких строк Аркадий хочет найти лексикографически минимальную."
   ]
  },
  {
   "cell_type": "markdown",
   "id": "937b77b3",
   "metadata": {},
   "source": [
    "### Пример 1\n"
   ]
  },
  {
   "cell_type": "markdown",
   "id": "2f0a08fb",
   "metadata": {},
   "source": [
    "### Ввод\n",
    "abac"
   ]
  },
  {
   "cell_type": "markdown",
   "id": "0de297b8",
   "metadata": {},
   "source": [
    "### Вывод\n",
    "aba"
   ]
  },
  {
   "cell_type": "markdown",
   "id": "f21fb7e7",
   "metadata": {},
   "source": [
    "### Пример 2"
   ]
  },
  {
   "cell_type": "markdown",
   "id": "77806eb3",
   "metadata": {},
   "source": [
    "### Ввод\n",
    "yandex"
   ]
  },
  {
   "cell_type": "markdown",
   "id": "daa03411",
   "metadata": {},
   "source": [
    "### Вывод\n",
    "-1"
   ]
  },
  {
   "cell_type": "markdown",
   "id": "759ff8cb",
   "metadata": {},
   "source": [
    "# Примечания"
   ]
  },
  {
   "cell_type": "markdown",
   "id": "de192978",
   "metadata": {},
   "source": [
    "Говорят, что строка \n",
    "a\n",
    "=\n",
    "a\n",
    "1\n",
    "a\n",
    "2\n",
    "…\n",
    "a\n",
    "n\n",
    " лексикографически меньше строки \n",
    "b\n",
    "=\n",
    "b\n",
    "1\n",
    "b\n",
    "2\n",
    "…\n",
    "b\n",
    "m\n",
    " если верно одно из двух условий:"
   ]
  },
  {
   "cell_type": "markdown",
   "id": "072aee4e",
   "metadata": {},
   "source": [
    ">\n",
    "Либо \n",
    "n\n",
    "<\n",
    "m\n",
    " и \n",
    "a\n",
    "1\n",
    "=\n",
    "b\n",
    "1\n",
    ",\n",
    "a\n",
    "2\n",
    "=\n",
    "b\n",
    "2\n",
    ",\n",
    "…\n",
    ",\n",
    "a\n",
    "n\n",
    "=\n",
    "b\n",
    "n\n",
    ", то есть первая строка является префиксом второй;\n",
    "\n",
    ">\n",
    "Либо есть такая позиция \n",
    "1\n",
    "≤\n",
    "i\n",
    "≤\n",
    "min\n",
    "(\n",
    "n\n",
    ",\n",
    "m\n",
    ")\n",
    ", что \n",
    "a\n",
    "1\n",
    "=\n",
    "b\n",
    "1\n",
    ",\n",
    "a\n",
    "2\n",
    "=\n",
    "b\n",
    "2\n",
    "…\n",
    ",\n",
    "a\n",
    "i\n",
    "−\n",
    "1\n",
    "=\n",
    "b\n",
    "i\n",
    "−\n",
    "1\n",
    " и \n",
    "a\n",
    "i\n",
    "<\n",
    "b\n",
    "i\n",
    ", то есть, в первой позиции, в которой строки различаются, в первой строке стоит меньшая буква."
   ]
  },
  {
   "cell_type": "markdown",
   "id": "d7913f66",
   "metadata": {},
   "source": [
    "# Решение"
   ]
  },
  {
   "cell_type": "markdown",
   "id": "7a581b11",
   "metadata": {},
   "source": [
    "Алгоритм Манакера\n",
    "\n",
    "https://ru.wikipedia.org/wiki/Алгоритм_Манакера#:~:text=Алгоритм%20Манакера%20(англ.%20Manacher's%20algorithm),Гленном%20Манакером%20в%201975%20году"
   ]
  },
  {
   "cell_type": "code",
   "execution_count": 1,
   "id": "37c61523",
   "metadata": {},
   "outputs": [
    {
     "name": "stdout",
     "output_type": "stream",
     "text": [
      "abac\n"
     ]
    }
   ],
   "source": [
    "text = list(str(input()))"
   ]
  },
  {
   "cell_type": "code",
   "execution_count": 2,
   "id": "8c0b4483",
   "metadata": {},
   "outputs": [],
   "source": [
    "length = len(text)"
   ]
  },
  {
   "cell_type": "code",
   "execution_count": 3,
   "id": "4d241502",
   "metadata": {},
   "outputs": [],
   "source": [
    "list_texts = []\n",
    "for k in range(2, length+1):\n",
    "    for i in range(0, length-1):\n",
    "        if i+k <= length:\n",
    "            list_texts.append(text[i:i+k])"
   ]
  },
  {
   "cell_type": "code",
   "execution_count": 4,
   "id": "3e420041",
   "metadata": {},
   "outputs": [
    {
     "data": {
      "text/plain": [
       "[['a', 'b'],\n",
       " ['b', 'a'],\n",
       " ['a', 'c'],\n",
       " ['a', 'b', 'a'],\n",
       " ['b', 'a', 'c'],\n",
       " ['a', 'b', 'a', 'c']]"
      ]
     },
     "execution_count": 4,
     "metadata": {},
     "output_type": "execute_result"
    }
   ],
   "source": [
    "list_texts"
   ]
  },
  {
   "cell_type": "code",
   "execution_count": 5,
   "id": "2828f131",
   "metadata": {},
   "outputs": [
    {
     "name": "stdout",
     "output_type": "stream",
     "text": [
      "aba\n"
     ]
    }
   ],
   "source": [
    "palindrom_dict = {}\n",
    "for i in list_texts:\n",
    "    if len(i)%2 == 0:\n",
    "        left_text = i[0:int(len(i)/2)]\n",
    "        right_text = i[int(len(i)/2):][::-1]\n",
    "    else:\n",
    "        left_text = i[0:int(len(i)/2)]\n",
    "        right_text = i[int(len(i)/2)+1:][::-1]\n",
    "    if left_text == right_text:\n",
    "        palindrom_dict[len(i)] = i\n",
    "if bool(palindrom_dict) is False:\n",
    "    print(-1)\n",
    "else:\n",
    "    print(''.join(palindrom_dict[min(palindrom_dict)]))"
   ]
  },
  {
   "cell_type": "markdown",
   "id": "34ea9471",
   "metadata": {},
   "source": [
    "# Только 7 из 10 тестов проходит (надо поменять логику поиска)"
   ]
  },
  {
   "cell_type": "code",
   "execution_count": null,
   "id": "91d87078",
   "metadata": {},
   "outputs": [],
   "source": []
  }
 ],
 "metadata": {
  "kernelspec": {
   "display_name": "Python 3 (ipykernel)",
   "language": "python",
   "name": "python3"
  },
  "language_info": {
   "codemirror_mode": {
    "name": "ipython",
    "version": 3
   },
   "file_extension": ".py",
   "mimetype": "text/x-python",
   "name": "python",
   "nbconvert_exporter": "python",
   "pygments_lexer": "ipython3",
   "version": "3.9.7"
  }
 },
 "nbformat": 4,
 "nbformat_minor": 5
}
